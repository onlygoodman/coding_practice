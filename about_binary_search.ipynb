{
  "nbformat": 4,
  "nbformat_minor": 0,
  "metadata": {
    "colab": {
      "name": "about_binary_search",
      "provenance": []
    },
    "kernelspec": {
      "name": "python3",
      "display_name": "Python 3"
    },
    "language_info": {
      "name": "python"
    }
  },
  "cells": [
    {
      "cell_type": "code",
      "execution_count": 1,
      "metadata": {
        "colab": {
          "base_uri": "https://localhost:8080/"
        },
        "id": "3iy4p_1kivcy",
        "outputId": "07a2fbee-3058-44e7-bd3e-7c420fc01a65"
      },
      "outputs": [
        {
          "output_type": "stream",
          "name": "stdout",
          "text": [
            "10 7\n",
            "1 3 5 6 7 8 9 10\n",
            "5\n"
          ]
        }
      ],
      "source": [
        "def binary_search(array, target, start, end):\n",
        "  if start > end:\n",
        "    return None\n",
        "  \n",
        "  mid = (start +end)//2\n",
        "  if array[mid] == target:\n",
        "    return mid\n",
        "\n",
        "  elif array[mid]>target:\n",
        "    return binary_search(array, target, start, mid-1)\n",
        "  \n",
        "  else:\n",
        "    return binary_search(array, target, mid+1, end)\n",
        "\n",
        "n, target = map(int, input().split())\n",
        "array = list(map(int, input().split()))\n",
        "\n",
        "result = binary_search(array, target, 0, n-1)\n",
        "if result == None:  \n",
        "  print(\"원소가 존재하지 않습니다.\")\n",
        "\n",
        "else :\n",
        "  print(result +1)\n",
        "\n",
        "  #결과로 리스트에서 해당값의 인덱스 값을 반환해준다.\n"
      ]
    },
    {
      "cell_type": "code",
      "source": [
        "print(solution(\"handshake\", \"shake hands\"))\n",
        "print(solution(\"France\", \"French\"))\n",
        "print(solution(\"aa1+aa2\",\"AAAA12\")) "
      ],
      "metadata": {
        "colab": {
          "base_uri": "https://localhost:8080/"
        },
        "id": "WDI_1U_GAVkD",
        "outputId": "86ed2d63-c59b-4e4a-f0d9-5ea9f77d2965"
      },
      "execution_count": 37,
      "outputs": [
        {
          "output_type": "stream",
          "name": "stdout",
          "text": [
            "65536\n",
            "16384\n",
            "43690\n"
          ]
        }
      ]
    }
  ]
}