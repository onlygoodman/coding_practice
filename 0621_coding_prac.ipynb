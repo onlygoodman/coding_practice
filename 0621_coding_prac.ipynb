{
  "nbformat": 4,
  "nbformat_minor": 0,
  "metadata": {
    "colab": {
      "name": "0621 coding prac",
      "provenance": []
    },
    "kernelspec": {
      "name": "python3",
      "display_name": "Python 3"
    },
    "language_info": {
      "name": "python"
    }
  },
  "cells": [
    {
      "cell_type": "code",
      "execution_count": null,
      "metadata": {
        "colab": {
          "base_uri": "https://localhost:8080/"
        },
        "id": "N8uT938Nnoa6",
        "outputId": "54b1cd5f-bb86-4c16-ac23-91294b375dac"
      },
      "outputs": [
        {
          "output_type": "stream",
          "name": "stdout",
          "text": [
            "2022-06-21\n"
          ]
        }
      ],
      "source": [
        "from pytz import timezone\n",
        "\n",
        "from datetime import datetime\n",
        "today = datetime.now(timezone('Asia/Seoul'))\n",
        "print(\"{}-{}-{}\".format(datetime.today().year, str(datetime.today().month).zfill(2), datetime.today().day))"
      ]
    },
    {
      "cell_type": "code",
      "source": [
        "#2530번\n",
        "\n",
        "h, m, s = map(int, input().split())\n",
        "p = int(input())\n",
        "\n",
        "s=s+p\n",
        "m=m+s//60\n",
        "h=h+m//60\n",
        "\n",
        "print(\"{} {} {}\".format(h%24, m%60, s%60))"
      ],
      "metadata": {
        "colab": {
          "base_uri": "https://localhost:8080/"
        },
        "id": "mRQFbAxcsMN0",
        "outputId": "6f2aa74b-45af-4044-8142-ce49fcaa55ae"
      },
      "execution_count": null,
      "outputs": [
        {
          "output_type": "stream",
          "name": "stdout",
          "text": [
            "17 40 45\n",
            "6015\n",
            "19 21 0\n"
          ]
        }
      ]
    },
    {
      "cell_type": "markdown",
      "source": [
        ""
      ],
      "metadata": {
        "id": "pDC_ZOtBQ5yc"
      }
    },
    {
      "cell_type": "code",
      "source": [
        "n, m = map(int, input().split())\n",
        "\n",
        "memo={0:1, 1:1}\n",
        "def fac(n):\n",
        "    if n in memo:\n",
        "        return memo[n]\n",
        "    else :\n",
        "        output = fac(n-1)*n\n",
        "        memo[n]= output\n",
        "        return output\n",
        "    \n",
        "nlist=[[i] for i in range(1,n+1)]*fac(m-1)\n",
        "count=0\n",
        "while count<m:\n",
        "    count+=1\n",
        "    for i in range(1,n+1):\n",
        "        for x in nlist:\n",
        "            if i not in x:\n",
        "                x.append(i)\n",
        "            \n",
        "for i in sorted(nlist):\n",
        "    print(\" \".join(list(map(str, i))))"
      ],
      "metadata": {
        "colab": {
          "base_uri": "https://localhost:8080/"
        },
        "id": "-Xhl1KxFQ6ya",
        "outputId": "6db71c47-f8b2-4565-f256-a0db4c740cf0"
      },
      "execution_count": null,
      "outputs": [
        {
          "output_type": "stream",
          "name": "stdout",
          "text": [
            "4 3\n",
            "1 2 3 4\n",
            "1 2 3 4\n",
            "2 1 3 4\n",
            "2 1 3 4\n",
            "3 1 2 4\n",
            "3 1 2 4\n",
            "4 1 2 3\n",
            "4 1 2 3\n"
          ]
        }
      ]
    },
    {
      "cell_type": "code",
      "source": [
        "#2108번\n",
        "\n",
        "n=int(input())\n",
        "\n",
        "numlist=[int(input()) for _ in range(n)]\n",
        "numdic={i:0 for i in sorted(set(numlist))}\n",
        "numscore = [0 for i in range(n)]\n",
        "\n",
        "for i in numlist:\n",
        "    numdic[i]+=1\n",
        "\n",
        "for i in range(len(numdic)):\n",
        "  numscore[i]+=numdic[list(numdic.keys())[i]]\n",
        "\n",
        "\n",
        "print(round(float(sum(numlist))/n))\n",
        "print(sorted(numlist)[(n-1)//2])\n",
        "if numscore.count(max(numscore))==1:\n",
        "  print(list(numdic.keys())[numscore.index(max(numscore))])\n",
        "\n",
        "else :\n",
        "  numdic[list(numdic.keys())[numscore.index(max(numscore))]]-=1\n",
        "  numscore[numscore.index(max(numscore))]-=1\n",
        "  print(list(numdic.keys())[numscore.index(max(numscore))])\n",
        "\n",
        "print(max(numlist)-min(numlist))"
      ],
      "metadata": {
        "colab": {
          "base_uri": "https://localhost:8080/"
        },
        "id": "eTv-7Jv8thZB",
        "outputId": "5160acdb-b3d5-4d9b-dbc6-dd6fc18ef956"
      },
      "execution_count": null,
      "outputs": [
        {
          "output_type": "stream",
          "name": "stdout",
          "text": [
            "5\n",
            "1\n",
            "3\n",
            "8\n",
            "-2\n",
            "2\n",
            "2\n",
            "2\n",
            "1\n",
            "10\n"
          ]
        }
      ]
    },
    {
      "cell_type": "code",
      "source": [
        "#2108번\n",
        "\n",
        "n=int(input())\n",
        "\n",
        "numlist=[int(input()) for _ in range(n)]\n",
        "numdic={i:0 for i in sorted(set(numlist))}\n",
        "answer=[]\n",
        "\n",
        "for i in numlist:\n",
        "    numdic[i]+=1\n",
        "numscore = max(list(numdic.values()))\n",
        "for i in numdic:\n",
        "  if numdic[i]==numscore:\n",
        "    answer.append(i)\n",
        "# print(numdic)\n",
        "# print(answer)\n",
        "\n",
        "\n",
        "print(round(float(sum(numlist))/n))\n",
        "print(sorted(numlist)[(n-1)//2])\n",
        "if len(answer)==1:\n",
        "  print(answer[0])\n",
        "else:\n",
        "  print(answer[1])\n",
        "print(max(numlist)-min(numlist))"
      ],
      "metadata": {
        "colab": {
          "base_uri": "https://localhost:8080/"
        },
        "id": "nvlCWVkI1ZEe",
        "outputId": "29cd0fe1-ce06-4378-aad5-8187cf766e99"
      },
      "execution_count": null,
      "outputs": [
        {
          "output_type": "stream",
          "name": "stdout",
          "text": [
            "5\n",
            "1\n",
            "3\n",
            "8\n",
            "-2\n",
            "2\n",
            "{-2: 1, 1: 1, 2: 1, 3: 1, 8: 1}\n",
            "[-2, 1, 2, 3, 8]\n",
            "2\n",
            "2\n",
            "1\n",
            "10\n"
          ]
        }
      ]
    },
    {
      "cell_type": "code",
      "source": [
        "x={1:2, 2:5}\n",
        "print(list(x.values()))\n",
        "\n",
        "y=[3,4,2,4]\n",
        "print(y.index(max(y)))\n",
        "del y[y.index(max(y))]\n",
        "print(y.index(max(y)))\n",
        "\n",
        "print(y)"
      ],
      "metadata": {
        "colab": {
          "base_uri": "https://localhost:8080/"
        },
        "id": "Gh45htqvwU0b",
        "outputId": "d647b7b7-5639-49e2-e43e-57bb69ff9234"
      },
      "execution_count": null,
      "outputs": [
        {
          "output_type": "stream",
          "name": "stdout",
          "text": [
            "[2, 5]\n",
            "1\n",
            "2\n",
            "[3, 2, 4]\n"
          ]
        }
      ]
    },
    {
      "cell_type": "code",
      "source": [
        "print(\"\".join(map(str,sorted(map(int, list(input())), reverse=True))))"
      ],
      "metadata": {
        "colab": {
          "base_uri": "https://localhost:8080/"
        },
        "id": "qXIlVhtE9uz2",
        "outputId": "7b21df48-d553-48e1-8dd7-9fe7a2f589c1"
      },
      "execution_count": null,
      "outputs": [
        {
          "output_type": "stream",
          "name": "stdout",
          "text": [
            "2143\n",
            "4321\n"
          ]
        }
      ]
    },
    {
      "cell_type": "code",
      "source": [
        "#11650번\n",
        "\n",
        "n=int(input())\n",
        "\n",
        "numlist = [input().split()  for _ in range(n)]\n",
        "\n",
        "num_list=[[int(x),int(y)] for x,y in numlist]\n",
        "answer=sorted(num_list, key=lambda b: [b[0], b[1]])\n",
        "for x, y in answer:\n",
        "  print(\"{} {}\".format(x,y))"
      ],
      "metadata": {
        "colab": {
          "base_uri": "https://localhost:8080/"
        },
        "id": "6BRlHp5b_bho",
        "outputId": "baa66d5c-21f8-48d5-d6c0-2aa47aad6f6f"
      },
      "execution_count": null,
      "outputs": [
        {
          "output_type": "stream",
          "name": "stdout",
          "text": [
            "5\n",
            "3 4\n",
            "1 1\n",
            "1 -1\n",
            "2 2\n",
            "3 3\n",
            "1 -1\n",
            "1 1\n",
            "2 2\n",
            "3 3\n",
            "3 4\n"
          ]
        }
      ]
    },
    {
      "cell_type": "code",
      "source": [
        "n=int(input())\n",
        "\n",
        "wordlist=[input() for _ in range(n)]\n",
        "lenandword=[[len(i), i] for i in wordlist]\n",
        "answer=sorted(lenandword, key=lambda b: [b[0], b[1]])\n",
        "\n",
        "for word in answer:\n",
        "  print(word[1])"
      ],
      "metadata": {
        "colab": {
          "base_uri": "https://localhost:8080/"
        },
        "id": "XGGbKLv1pw1w",
        "outputId": "e2f92e7f-239e-4e88-c33c-3e8a5dfc574e"
      },
      "execution_count": null,
      "outputs": [
        {
          "output_type": "stream",
          "name": "stdout",
          "text": [
            "5\n",
            "but\n",
            "i\n",
            "it\n",
            "im\n",
            "no\n",
            "i\n",
            "im\n",
            "it\n",
            "no\n",
            "but\n"
          ]
        }
      ]
    },
    {
      "cell_type": "code",
      "source": [
        "print(answer)\n",
        "answer2=sorted(wordlist, key= lambda x: [len(x), x])\n",
        "print(answer2)"
      ],
      "metadata": {
        "colab": {
          "base_uri": "https://localhost:8080/"
        },
        "id": "kUeYYW5QraG1",
        "outputId": "e71a7609-e7c3-4bfb-c1a1-9563bdc6b50a"
      },
      "execution_count": null,
      "outputs": [
        {
          "output_type": "stream",
          "name": "stdout",
          "text": [
            "[[1, 'i'], [2, 'im'], [2, 'it'], [2, 'no'], [3, 'but']]\n",
            "['i', 'im', 'it', 'no', 'but']\n"
          ]
        }
      ]
    },
    {
      "cell_type": "code",
      "source": [
        "n= int(input())\n",
        "age_and_idlist=[input().split()+[i] for i in range(n)]\n",
        "\n",
        "answer = sorted(age_and_idlist, key=lambda x : [x[0], x[2]])\n"
      ],
      "metadata": {
        "colab": {
          "base_uri": "https://localhost:8080/"
        },
        "id": "9V-xbP4_s1c3",
        "outputId": "8b9457fc-6e02-453f-a667-efbf817e9564"
      },
      "execution_count": null,
      "outputs": [
        {
          "output_type": "stream",
          "name": "stdout",
          "text": [
            "4\n",
            "19 KD\n",
            "15 AD\n",
            "16 DA\n",
            "15 AC\n",
            "15 AD\n",
            "15 AC\n",
            "16 DA\n",
            "19 KD\n"
          ]
        }
      ]
    },
    {
      "cell_type": "code",
      "source": [
        "\n",
        "for i in answer:\n",
        "  print(\"{} {}\".format(i[0],i[1]))"
      ],
      "metadata": {
        "colab": {
          "base_uri": "https://localhost:8080/"
        },
        "id": "eXtQ8G5-uU8f",
        "outputId": "8570a117-5133-4ab9-a5a5-6ea1ae6b816f"
      },
      "execution_count": null,
      "outputs": [
        {
          "output_type": "stream",
          "name": "stdout",
          "text": [
            "15 AD\n",
            "15 AC\n",
            "16 DA\n",
            "19 KD\n"
          ]
        }
      ]
    },
    {
      "cell_type": "code",
      "source": [
        "import numpy as np\n",
        "\n",
        "timesteps = 10\n",
        "input_dim = 4\n",
        "hidden_units = 8\n",
        "\n",
        "# 입력에 해당되는 2D 텐서\n",
        "inputs = np.random.random((timesteps, input_dim))\n",
        "\n",
        "# 초기 은닉 상태는 0(벡터)로 초기화\n",
        "hidden_state_t = np.zeros((hidden_units,)) \n",
        "\n",
        "print('초기 은닉 상태 :',hidden_state_t)\n",
        "print('input:',inputs)"
      ],
      "metadata": {
        "colab": {
          "base_uri": "https://localhost:8080/"
        },
        "id": "63iRFgxS_3P4",
        "outputId": "f14fdfc1-26c1-47f1-cbce-d752930df9c7"
      },
      "execution_count": null,
      "outputs": [
        {
          "output_type": "stream",
          "name": "stdout",
          "text": [
            "초기 은닉 상태 : [0. 0. 0. 0. 0. 0. 0. 0.]\n",
            "input: [[0.92327021 0.36171303 0.4342065  0.00485571]\n",
            " [0.94574232 0.38960725 0.16964259 0.59434058]\n",
            " [0.07577052 0.48598928 0.49908345 0.54819251]\n",
            " [0.30903108 0.48341621 0.35951342 0.11707694]\n",
            " [0.4674206  0.43430768 0.06548439 0.8547116 ]\n",
            " [0.64124664 0.09777214 0.17448987 0.56201394]\n",
            " [0.73446414 0.94430254 0.22264656 0.35910915]\n",
            " [0.17647215 0.92072716 0.28495447 0.22902299]\n",
            " [0.52495891 0.4301569  0.16670577 0.52902408]\n",
            " [0.84322626 0.85683852 0.36144096 0.39616257]]\n"
          ]
        }
      ]
    },
    {
      "cell_type": "code",
      "source": [
        "Wx = np.random.random((hidden_units, input_dim))  # (8, 4)크기의 2D 텐서 생성. 입력에 대한 가중치.\n",
        "Wh = np.random.random((hidden_units, hidden_units)) # (8, 8)크기의 2D 텐서 생성. 은닉 상태에 대한 가중치.\n",
        "b = np.random.random((hidden_units,)) # (8,)크기의 1D 텐서 생성. 이 값은 편향(bias).\n",
        "\n",
        "# of params = (Dh * Dh)       +     (Dh * d)      +   (Dh)\n",
        "#               (Wh)   *ht-1  +     (Wx)    * xt  +   (b)\n",
        "\n",
        "print('가중치 Wx의 크기(shape) :',np.shape(Wx))\n",
        "print('가중치 Wh의 크기(shape) :',np.shape(Wh))\n",
        "print('편향의 크기(shape) :',np.shape(b))\n"
      ],
      "metadata": {
        "colab": {
          "base_uri": "https://localhost:8080/"
        },
        "id": "8htzQLBZQEtS",
        "outputId": "103ed169-93a7-4920-a3b7-0b6b21a2d488"
      },
      "execution_count": null,
      "outputs": [
        {
          "output_type": "stream",
          "name": "stdout",
          "text": [
            "가중치 Wx의 크기(shape) : (8, 4)\n",
            "가중치 Wh의 크기(shape) : (8, 8)\n",
            "편향의 크기(shape) : (8,)\n"
          ]
        }
      ]
    },
    {
      "cell_type": "code",
      "source": [
        "print(Wx)"
      ],
      "metadata": {
        "colab": {
          "base_uri": "https://localhost:8080/"
        },
        "id": "RrjMADNSlf1e",
        "outputId": "26c636de-2801-4a7f-d380-944ccc891a45"
      },
      "execution_count": null,
      "outputs": [
        {
          "output_type": "stream",
          "name": "stdout",
          "text": [
            "[[0.45799203 0.96580596 0.34739782 0.50183672]\n",
            " [0.33144343 0.50306213 0.45111617 0.37539951]\n",
            " [0.34959072 0.38110424 0.19433192 0.67219421]\n",
            " [0.22594931 0.99526381 0.45786526 0.1741255 ]\n",
            " [0.60114357 0.18871761 0.49526342 0.93600498]\n",
            " [0.79485204 0.28655797 0.01514563 0.89185278]\n",
            " [0.72314854 0.53195321 0.33442802 0.27106337]\n",
            " [0.50379579 0.56794504 0.71470423 0.50108934]]\n"
          ]
        }
      ]
    },
    {
      "cell_type": "code",
      "source": [
        "total_hidden_states = []\n",
        "\n",
        "# 각 시점 별 입력값.\n",
        "for input_t in inputs:\n",
        "\n",
        "  # Wx * Xt + Wh * Ht-1 + b(bias)\n",
        "  output_t = np.tanh(np.dot(Wx,input_t) + np.dot(Wh,hidden_state_t) + b)\n",
        "\n",
        "  # 각 시점 t별 메모리 셀의 출력의 크기는 (timestep t, output_dim)\n",
        "  # 각 시점의 은닉 상태의 값을 계속해서 누적\n",
        "  total_hidden_states.append(list(output_t))\n",
        "  hidden_state_t = output_t\n",
        "\n",
        "# 출력 시 값을 깔끔하게 해주는 용도.\n",
        "total_hidden_states = np.stack(total_hidden_states, axis = 0) \n",
        "\n",
        "# (timesteps, output_dim)\n",
        "print('모든 시점의 은닉 상태 :')\n",
        "print(total_hidden_states)"
      ],
      "metadata": {
        "colab": {
          "base_uri": "https://localhost:8080/"
        },
        "id": "0h7YzsZZQGf6",
        "outputId": "34196726-4dde-4a5d-c631-4328bb47ccb4"
      },
      "execution_count": null,
      "outputs": [
        {
          "output_type": "stream",
          "name": "stdout",
          "text": [
            "모든 시점의 은닉 상태 :\n",
            "[[0.8461114  0.75284881 0.6330158  0.90467936 0.73954435 0.8274086\n",
            "  0.84587861 0.95731045]\n",
            " [0.99996218 0.99955511 0.99939435 0.99997582 0.9988057  0.999876\n",
            "  0.99986011 0.99992778]\n",
            " [0.99999309 0.99989321 0.99976976 0.99999499 0.99897953 0.99987686\n",
            "  0.99990621 0.99997975]\n",
            " [0.99999049 0.99985637 0.999631   0.99999403 0.99801561 0.99981577\n",
            "  0.99990701 0.99996985]\n",
            " [0.9999947  0.99989812 0.99985723 0.99999379 0.99943723 0.99996009\n",
            "  0.99993637 0.99998022]\n",
            " [0.99998926 0.99985633 0.99976825 0.99998876 0.99919588 0.9999384\n",
            "  0.99992294 0.99997213]\n",
            " [0.99999772 0.99993572 0.9998531  0.99999795 0.99927183 0.9999531\n",
            "  0.99997042 0.9999889 ]\n",
            " [0.99999566 0.99990072 0.99974324 0.99999727 0.99827763 0.99985475\n",
            "  0.99993005 0.99997916]\n",
            " [0.99999345 0.99988527 0.99979517 0.99999377 0.99912494 0.99993496\n",
            "  0.99993445 0.99997752]\n",
            " [0.99999786 0.99994396 0.99986882 0.99999798 0.99946298 0.99996133\n",
            "  0.99997522 0.99999132]]\n"
          ]
        }
      ]
    },
    {
      "cell_type": "code",
      "source": [
        "from keras.models import Sequential\n",
        "from keras.layers import SimpleRNN, Embedding, Dense\n",
        "\n",
        "vocab_size = 2000\n",
        "embedding_dim = 100\n",
        "hidden_size = 64\n",
        "\n",
        "model = Sequential()\n",
        "model.add(Embedding(vocab_size, embedding_dim))\n",
        "model.add(SimpleRNN(hidden_size, batch_input_shape=(30, 3, 2000),return_sequences=True))\n",
        "model.add(Dense(1, activation='sigmoid'))\n",
        "model.summary() "
      ],
      "metadata": {
        "colab": {
          "base_uri": "https://localhost:8080/"
        },
        "id": "Jvt43G9Svjm6",
        "outputId": "be098372-a04f-4327-e704-edac8ebc8ed6"
      },
      "execution_count": null,
      "outputs": [
        {
          "output_type": "stream",
          "name": "stdout",
          "text": [
            "Model: \"sequential_7\"\n",
            "_________________________________________________________________\n",
            " Layer (type)                Output Shape              Param #   \n",
            "=================================================================\n",
            " embedding_7 (Embedding)     (None, None, 100)         200000    \n",
            "                                                                 \n",
            " simple_rnn_7 (SimpleRNN)    (None, None, 64)          10560     \n",
            "                                                                 \n",
            " dense_6 (Dense)             (None, None, 1)           65        \n",
            "                                                                 \n",
            "=================================================================\n",
            "Total params: 210,625\n",
            "Trainable params: 210,625\n",
            "Non-trainable params: 0\n",
            "_________________________________________________________________\n"
          ]
        }
      ]
    },
    {
      "cell_type": "code",
      "source": [
        "from keras.models import Sequential\n",
        "from keras.layers import SimpleRNN, Embedding, Dense\n",
        "\n",
        "vocab_size = 2000\n",
        "embedding_dim = 100\n",
        "hidden_size = 64\n",
        "\n",
        "model = Sequential()\n",
        "model.add(Embedding(vocab_size, embedding_dim))\n",
        "model.add(SimpleRNN(hidden_size, return_sequences=True))\n",
        "model.add(Dense(1, activation='sigmoid'))\n",
        "model.summary() "
      ],
      "metadata": {
        "colab": {
          "base_uri": "https://localhost:8080/"
        },
        "id": "iOXl6iNrwyRn",
        "outputId": "6fcc27ab-b82b-4cb3-b1bb-bbfb0687182a"
      },
      "execution_count": null,
      "outputs": [
        {
          "output_type": "stream",
          "name": "stdout",
          "text": [
            "Model: \"sequential_3\"\n",
            "_________________________________________________________________\n",
            " Layer (type)                Output Shape              Param #   \n",
            "=================================================================\n",
            " embedding_3 (Embedding)     (None, None, 100)         200000    \n",
            "                                                                 \n",
            " simple_rnn_3 (SimpleRNN)    (None, None, 64)          10560     \n",
            "                                                                 \n",
            " dense_2 (Dense)             (None, None, 1)           65        \n",
            "                                                                 \n",
            "=================================================================\n",
            "Total params: 210,625\n",
            "Trainable params: 210,625\n",
            "Non-trainable params: 0\n",
            "_________________________________________________________________\n"
          ]
        }
      ]
    },
    {
      "cell_type": "code",
      "source": [
        "n= int(input())\n",
        "age_and_idlist=[input().rstrip().split()+[i] for i in range(n)]\n",
        "\n",
        "answer = sorted(age_and_idlist, key=lambda x : [int(x[0]), x[2]])\n",
        "\n",
        "for i in answer:\n",
        "  print(\"{} {}\".format(int(i[0]),i[1]))"
      ],
      "metadata": {
        "id": "Gg1CnxeCzmFh"
      },
      "execution_count": null,
      "outputs": []
    },
    {
      "cell_type": "code",
      "source": [
        "n=int(input())\n",
        "numlist=list(map(int, input().split()))\n",
        "\n",
        "sort_num=sorted(set(numlist))\n",
        "num_dic={sort_num[i]:i for i in range(len(sort_num))}\n",
        "\n",
        "  print(num_dic[i], end=\" \")\n"
      ],
      "metadata": {
        "colab": {
          "base_uri": "https://localhost:8080/"
        },
        "id": "uzXHADs79_Tz",
        "outputId": "1610f8b7-2d50-4703-a105-3eb43b0ac577"
      },
      "execution_count": null,
      "outputs": [
        {
          "output_type": "stream",
          "name": "stdout",
          "text": [
            "5\n",
            "2 4 -10 4 -9\n",
            "2 3 0 3 1 "
          ]
        }
      ]
    },
    {
      "cell_type": "code",
      "source": [
        "print(d)\n",
        "print(num_newdic)\n",
        "print(num_dic)"
      ],
      "metadata": {
        "colab": {
          "base_uri": "https://localhost:8080/"
        },
        "id": "hVkIFCKfIzgP",
        "outputId": "1746ef77-2984-4053-cddd-b43422ba3d2f"
      },
      "execution_count": null,
      "outputs": [
        {
          "output_type": "stream",
          "name": "stdout",
          "text": [
            "deque([])\n",
            "{-10: 1, -9: 2, 2: 3, 4: 5}\n",
            "{-10: 1, -9: 1, 2: 1, 4: 2}\n"
          ]
        }
      ]
    },
    {
      "cell_type": "code",
      "source": [
        "print(num_dic)"
      ],
      "metadata": {
        "colab": {
          "base_uri": "https://localhost:8080/"
        },
        "id": "JmrYwpHqIn2q",
        "outputId": "c5ee7af7-858a-4507-8b93-a8326c41b7b8"
      },
      "execution_count": null,
      "outputs": [
        {
          "output_type": "stream",
          "name": "stdout",
          "text": [
            "{-10: 1, -9: 1, 2: 1, 4: 2}\n"
          ]
        }
      ]
    },
    {
      "cell_type": "code",
      "source": [
        "import numpy as np\n",
        "import tensorflow as tf\n",
        "from tensorflow.keras.layers import SimpleRNN, LSTM, Bidirectional\n",
        "\n",
        "train_X = [[[0.1, 4.2, 1.5, 1.1, 2.8], [1.0, 3.1, 2.5, 0.7, 1.1], [0.3, 2.1, 1.5, 2.1, 0.1], [2.2, 1.4, 0.5, 0.9, 1.1]]]\n",
        "train_X = np.array(train_X, dtype=np.float32)\n",
        "print(train_X.shape)\n",
        "\n",
        "\n",
        "lstm = LSTM(3, return_sequences=False, return_state=True)\n",
        "hidden_state, last_state, last_cell_state = lstm(train_X)\n",
        "\n",
        "print('hidden state : {}, shape: {}'.format(hidden_state, hidden_state.shape))\n",
        "print('last hidden state : {}, shape: {}'.format(last_state, last_state.shape))\n",
        "print('last cell state : {}, shape: {}'.format(last_cell_state, last_cell_state.shape))"
      ],
      "metadata": {
        "colab": {
          "base_uri": "https://localhost:8080/"
        },
        "id": "VRJch7mxLKF7",
        "outputId": "13c45457-798f-476a-8603-407d1d069a35"
      },
      "execution_count": null,
      "outputs": [
        {
          "output_type": "stream",
          "name": "stdout",
          "text": [
            "(1, 4, 5)\n",
            "hidden state : [[0.11914973 0.3530825  0.00376497]], shape: (1, 3)\n",
            "last hidden state : [[0.11914973 0.3530825  0.00376497]], shape: (1, 3)\n",
            "last cell state : [[0.3622366  0.6442737  0.02801314]], shape: (1, 3)\n"
          ]
        }
      ]
    },
    {
      "cell_type": "code",
      "source": [
        "from collections import deque\n",
        "\n",
        "M=int(input())\n",
        "my_card=deque(map(int, input().split()))\n",
        "\n",
        "N=int(input())\n",
        "check_card=deque(map(int, input().split()))\n",
        "\n",
        "for i in check_card:\n",
        "  if i in my_card:\n",
        "    print(1,end=\" \")\n",
        "  else :\n",
        "    print(0, end=\" \")"
      ],
      "metadata": {
        "colab": {
          "base_uri": "https://localhost:8080/"
        },
        "id": "DMNFvHH4L-V_",
        "outputId": "601b1c5b-7b28-4ebb-ba5d-9b9175c6ac08"
      },
      "execution_count": null,
      "outputs": [
        {
          "output_type": "stream",
          "name": "stdout",
          "text": [
            "5\n",
            "6 3 2 10 -10\n",
            "8\n",
            "10 9 -5 2 3 4 5 -10\n",
            "1 0\n",
            "0\n",
            "1 1 0\n",
            "0\n",
            "1 "
          ]
        }
      ]
    },
    {
      "cell_type": "code",
      "source": [
        "n, m = map(int, input().split())\n",
        "\n",
        "lset=set([input() for _ in range(n)])\n",
        "mset=set([input() for _ in range(m)])\n",
        "\n",
        "lmset= lset.intersection(mset)\n",
        "\n",
        "print(len(lmset))\n",
        "if len(lmset)!=0:\n",
        "  for i in sorted(lmset):\n",
        "      print(i)"
      ],
      "metadata": {
        "id": "6jZiqb0xyuej"
      },
      "execution_count": null,
      "outputs": []
    },
    {
      "cell_type": "code",
      "source": [
        "x=set([\"a\",\"d\",\"c\",\"s\"])\n",
        "print(sorted(x))"
      ],
      "metadata": {
        "colab": {
          "base_uri": "https://localhost:8080/"
        },
        "id": "NJbnNsH_2Ldq",
        "outputId": "62e843f8-7cc8-4f4b-8e3e-dc72ce6ca0fb"
      },
      "execution_count": null,
      "outputs": [
        {
          "output_type": "stream",
          "name": "stdout",
          "text": [
            "['a', 'c', 'd', 's']\n"
          ]
        }
      ]
    },
    {
      "cell_type": "code",
      "source": [
        "from itertools import permutations\n",
        "\n",
        "n, m = map(int, input().split())\n",
        "for x in list(permutations([i for i in range(1, n+1)], m)):\n",
        "  print(*x)"
      ],
      "metadata": {
        "colab": {
          "base_uri": "https://localhost:8080/"
        },
        "id": "aLVuDXEZ1LG1",
        "outputId": "541c0b3d-7a5a-4698-d4d4-5f8062b72680"
      },
      "execution_count": null,
      "outputs": [
        {
          "output_type": "stream",
          "name": "stdout",
          "text": [
            "4 3\n",
            "1 2 3\n",
            "1 2 4\n",
            "1 3 2\n",
            "1 3 4\n",
            "1 4 2\n",
            "1 4 3\n",
            "2 1 3\n",
            "2 1 4\n",
            "2 3 1\n",
            "2 3 4\n",
            "2 4 1\n",
            "2 4 3\n",
            "3 1 2\n",
            "3 1 4\n",
            "3 2 1\n",
            "3 2 4\n",
            "3 4 1\n",
            "3 4 2\n",
            "4 1 2\n",
            "4 1 3\n",
            "4 2 1\n",
            "4 2 3\n",
            "4 3 1\n",
            "4 3 2\n"
          ]
        }
      ]
    },
    {
      "cell_type": "code",
      "source": [
        "import sys\n",
        "\n",
        "n= int(input())\n",
        "se_time_list = [list(map(int, input().split())) for _ in range(n)]\n",
        "\n",
        "\n",
        "\n",
        "\n",
        "# print(\"stlist1:\",stlist1)\n",
        "# print(\"stlist2:\",stlist2)\n",
        "# print(\"stdic:\",stdic)\n",
        "# print(\"now값:\",now)\n",
        "# print(\"count값:\",count)"
      ],
      "metadata": {
        "colab": {
          "base_uri": "https://localhost:8080/"
        },
        "id": "d9GKIpwq4wyA",
        "outputId": "a6d896a9-fe2c-4814-ea9b-7dc5f49a9bc6"
      },
      "execution_count": null,
      "outputs": [
        {
          "name": "stdout",
          "output_type": "stream",
          "text": [
            "11\n",
            "1 4\n",
            "3 5\n",
            "0 6\n",
            "5 7\n",
            "3 8\n",
            "5 9\n",
            "6 10\n",
            "8 11\n",
            "8 12\n",
            "2 13\n",
            "12 14\n"
          ]
        }
      ]
    },
    {
      "cell_type": "code",
      "source": [
        "stlist1 = sorted(se_time_list, key= lambda fir : fir[1], reverse=True)\n",
        "stlist2 = [[-1, -1]]\n",
        "sedic = {}\n",
        "\n",
        "for i in range(len(stlist1)):\n",
        "  p, q = stlist1[i] \n",
        "  if p >= stlist2[-1][1] and p<2**(31) and q<2**(31):\n",
        "    stlist2.append(stlist1[i])\n",
        "\n",
        "print(len(stlist2)-1)\n"
      ],
      "metadata": {
        "colab": {
          "base_uri": "https://localhost:8080/"
        },
        "id": "7YlzAJtj4_hc",
        "outputId": "a5433023-76a9-4e6b-b302-722618de750a"
      },
      "execution_count": null,
      "outputs": [
        {
          "output_type": "stream",
          "name": "stdout",
          "text": [
            "1\n"
          ]
        }
      ]
    },
    {
      "cell_type": "code",
      "source": [
        "import sys\n",
        "\n",
        "n= int(input())\n",
        "se_time_list = [list(map(int, input().split())) for _ in range(n)]\n",
        "\n",
        "stlist1 = sorted(se_time_list, key= lambda fir : (fir[1],fir[0]), reverse=True)\n",
        "stlist2 = [[-1, -1]]\n",
        "sedic = {}\n",
        "count=0\n",
        "\n",
        "for s, e in stlist1:\n",
        "  if s==e:\n",
        "    count+=1\n",
        "  sedic[s]=e\n",
        "# print(sedic)\n",
        "\n",
        "from collections import deque\n",
        "d= deque([[-1,-1]])\n",
        "for s, e in list(sedic.items())[::-1]:\n",
        "\n",
        "  if s>=d[-1][1]:\n",
        "    d.append([s, e])\n",
        "\n",
        "print(len(d)-1+count)"
      ],
      "metadata": {
        "colab": {
          "base_uri": "https://localhost:8080/"
        },
        "id": "kofKS7cZ5gLe",
        "outputId": "43ade10c-475b-4864-bb67-3dc166d73a53"
      },
      "execution_count": null,
      "outputs": [
        {
          "output_type": "stream",
          "name": "stdout",
          "text": [
            "{12: 14, 2: 13, 8: 11, 6: 10, 5: 7, 3: 5, 0: 6, 1: 4}\n",
            "1 4\n",
            "0 6\n",
            "3 5\n",
            "5 7\n",
            "6 10\n",
            "8 11\n",
            "2 13\n",
            "12 14\n"
          ]
        }
      ]
    },
    {
      "cell_type": "code",
      "source": [
        "n=int(input())\n",
        "se_time_list = [list(map(int, input().split())) for _ in range(n)]"
      ],
      "metadata": {
        "colab": {
          "base_uri": "https://localhost:8080/"
        },
        "id": "7qfdfpt9BAO6",
        "outputId": "b79d29b4-5e50-4967-98df-d928165f6701"
      },
      "execution_count": null,
      "outputs": [
        {
          "name": "stdout",
          "output_type": "stream",
          "text": [
            "11\n",
            "1 4\n",
            "3 5\n",
            "0 6\n",
            "5 7\n",
            "3 8\n",
            "5 9\n",
            "6 10\n",
            "8 11\n",
            "8 12\n",
            "2 13\n",
            "12 14\n"
          ]
        },
        {
          "output_type": "execute_result",
          "data": {
            "text/plain": [
              "0"
            ]
          },
          "metadata": {},
          "execution_count": 21
        }
      ]
    },
    {
      "cell_type": "code",
      "source": [
        "s, e = map(int, input().split())\n",
        "\n",
        "priorlist={2:0, 3:0}\n",
        "\n",
        "def prior(n):\n",
        "  if n in priorlist:\n",
        "    return True\n",
        "  else :\n",
        "    for i in list(priorlist.keys()):\n",
        "      if n%i==0:\n",
        "        return False\n",
        "        break\n",
        "    priorlist[n]=0\n",
        "    return True\n",
        "\n",
        "prior(e)\n",
        "\n",
        "for i in list(priorlist.keys()):\n",
        "  print(i)"
      ],
      "metadata": {
        "colab": {
          "base_uri": "https://localhost:8080/"
        },
        "id": "khRN45M5BdBO",
        "outputId": "2b263d79-9afe-4077-b513-03ddcf26e474"
      },
      "execution_count": null,
      "outputs": [
        {
          "output_type": "stream",
          "name": "stdout",
          "text": [
            "3 16\n",
            "2\n",
            "3\n"
          ]
        }
      ]
    },
    {
      "cell_type": "code",
      "source": [
        "\n",
        "\n",
        "print(*priorlist.keys(), end=\"\\n\")"
      ],
      "metadata": {
        "colab": {
          "base_uri": "https://localhost:8080/"
        },
        "id": "VfjL5IsqK1Nu",
        "outputId": "bdab8228-8049-4236-9ae4-df33c3adb7df"
      },
      "execution_count": null,
      "outputs": [
        {
          "output_type": "stream",
          "name": "stdout",
          "text": [
            "2 3 5 7 11 13\n"
          ]
        }
      ]
    },
    {
      "cell_type": "code",
      "source": [
        "print(priorlist)"
      ],
      "metadata": {
        "colab": {
          "base_uri": "https://localhost:8080/"
        },
        "id": "BY-7E4yPJ4sz",
        "outputId": "daa2e53e-906f-4db8-a445-c4d1c611c049"
      },
      "execution_count": null,
      "outputs": [
        {
          "output_type": "stream",
          "name": "stdout",
          "text": [
            "{2: 0, 3: 0, 11: 0}\n"
          ]
        }
      ]
    },
    {
      "cell_type": "code",
      "source": [
        "sortlist = sorted(se_time_list, key= lambda x: [x[1],x[0]])\n",
        "print(sortlist)\n",
        "answer=[sortlist[0]]\n",
        "print(answer)\n",
        "count=1\n",
        "\n",
        "for i in sortlist:\n",
        "  p=i[0]\n",
        "  q=i[1]\n",
        "  if p==q:\n",
        "    count+=1\n",
        "  elif p>=answer[-1][1]:\n",
        "    answer.append([p,q])\n",
        "    count+=1\n",
        "print(count)"
      ],
      "metadata": {
        "colab": {
          "base_uri": "https://localhost:8080/"
        },
        "id": "Vc4q_L2XHTmA",
        "outputId": "0a7783d4-2d79-447b-8076-9bfca3919151"
      },
      "execution_count": null,
      "outputs": [
        {
          "output_type": "stream",
          "name": "stdout",
          "text": [
            "[[1, 4], [3, 5], [0, 6], [5, 7], [3, 8], [5, 9], [6, 10], [8, 11], [8, 12], [2, 13], [12, 14]]\n",
            "[[1, 4]]\n",
            "4\n"
          ]
        }
      ]
    },
    {
      "cell_type": "code",
      "source": [
        "for i in sortlist:\n",
        "  p=i[0]\n",
        "  q=i[1]\n",
        "  if p==q:\n",
        "    count+=1\n",
        "  elif p>=answer[-1][1]:\n",
        "    answer.append([p,q])\n",
        "    count+=1\n",
        "print(count-1)"
      ],
      "metadata": {
        "colab": {
          "base_uri": "https://localhost:8080/"
        },
        "id": "GNeYsOr-ELyd",
        "outputId": "4f7f8bd6-30ae-4be4-e6f8-9f30ac3bcb96"
      },
      "execution_count": null,
      "outputs": [
        {
          "output_type": "stream",
          "name": "stdout",
          "text": [
            "-1\n"
          ]
        }
      ]
    },
    {
      "cell_type": "code",
      "source": [
        "import sys\n",
        "\n",
        "N = int(sys.stdin.readline())\n",
        "\n",
        "time = [[0]*2 for _ in range(N)]\n",
        "for i in range(N):\n",
        "    s, e = map(int, sys.stdin.readline().split())\n",
        "    time[i][0] = s\n",
        "    time[i][1] = e\n",
        "\n",
        "time.sort(key = lambda x: (x[1], x[0]))\n",
        "\n",
        "cnt = 1\n",
        "end_time = time[0][1]\n",
        "for i in range(1, N):\n",
        "    if time[i][0] >= end_time:\n",
        "        cnt += 1\n",
        "        end_time = time[i][1]\n",
        "\n",
        "print(cnt)\n"
      ],
      "metadata": {
        "id": "UGW10p5fD8XK"
      },
      "execution_count": null,
      "outputs": []
    },
    {
      "cell_type": "code",
      "source": [
        "print(answer)"
      ],
      "metadata": {
        "colab": {
          "base_uri": "https://localhost:8080/"
        },
        "id": "pxhR_G0iC-xq",
        "outputId": "68d95a99-a45a-453e-97d1-4e6f27636451"
      },
      "execution_count": null,
      "outputs": [
        {
          "output_type": "stream",
          "name": "stdout",
          "text": [
            "[[-1, -1], [1, 4], [5, 7], [8, 11], [12, 14]]\n"
          ]
        }
      ]
    },
    {
      "cell_type": "code",
      "source": [
        "from collections import deque\n",
        "d= deque([[-1,-1]])\n",
        "for s, e in list(sedic.items())[::-1]:\n",
        "\n",
        "  if s>=d[-1][1]:\n",
        "    d.append([s, e])\n",
        "\n",
        "print(len(d)-1)"
      ],
      "metadata": {
        "colab": {
          "base_uri": "https://localhost:8080/"
        },
        "id": "6LfZKJtA5z-u",
        "outputId": "42060ee8-bb67-4f9b-a0b3-7b9abdb8536e"
      },
      "execution_count": null,
      "outputs": [
        {
          "output_type": "stream",
          "name": "stdout",
          "text": [
            "4\n"
          ]
        }
      ]
    },
    {
      "cell_type": "code",
      "source": [
        "n=int(input())\n",
        "\n",
        "for _ in range(n):\n",
        "    x= int(input()) # 합이 x가 되도록\n",
        "    if x%2==0:\n",
        "        answer=[\"{} {}\".format(i, x-i) for i in range(1,x//2+1) if i!=x-i]\n",
        "    else :\n",
        "        answer=[\"{} {}\".format(i, x-i) for i in range(1, (x-1)//2+1) if i!=x-i]\n",
        "    \n",
        "    print(\"Pairs for {}: {}\".format(x, \", \".join(answer)))"
      ],
      "metadata": {
        "colab": {
          "base_uri": "https://localhost:8080/"
        },
        "id": "gwO6UppCNFQi",
        "outputId": "b4fc434d-39ac-4bb4-f864-8be9125483ff"
      },
      "execution_count": null,
      "outputs": [
        {
          "output_type": "stream",
          "name": "stdout",
          "text": [
            "1\n",
            "2\n",
            "Pairs for 2: \n"
          ]
        }
      ]
    },
    {
      "cell_type": "code",
      "source": [
        "from collections import deque\n",
        "\n",
        "n= int(input())\n",
        "k= int(input())\n",
        "\n",
        "numlist=sorted(list(set(map(int, input().split()))))\n",
        "\n",
        "distance=sorted([numlist[i+1]-numlist[i] for i in range(len(numlist)-1)])\n",
        "dd = deque(distance)\n",
        "\n",
        "if k!=1:\n",
        "    for _ in range(k-1):\n",
        "        dd.pop()\n",
        "    print(sum(list(dd)))\n",
        "else:\n",
        "    print(sum(distance))\n",
        "    "
      ],
      "metadata": {
        "colab": {
          "base_uri": "https://localhost:8080/"
        },
        "id": "w14-kZFfGhr2",
        "outputId": "94e554c4-5868-4061-f80e-ba5376d1d7eb"
      },
      "execution_count": null,
      "outputs": [
        {
          "output_type": "stream",
          "name": "stdout",
          "text": [
            "1\n",
            "1\n",
            "3\n",
            "0\n"
          ]
        }
      ]
    },
    {
      "cell_type": "code",
      "source": [
        "from collections import deque\n",
        "\n",
        "n= int(input())\n",
        "k= int(input())\n",
        "\n",
        "numlist=sorted(list(set(int, input().split())))\n",
        "\n",
        "if n==1 or k==1:\n",
        "  print(sum(numlist))\n",
        "\n",
        "elif k>=len(numlist):\n",
        "  print(0)\n",
        "\n",
        "elif k<len(numlist):\n",
        "    distance=sorted([numlist[i+1]-numlist[i] for i in range(len(numlist)-1)])\n",
        "    dd = deque(distance)\n",
        "    for _ in range(k-1):\n",
        "        dd.pop()\n",
        "    print(sum(list(dd)))"
      ],
      "metadata": {
        "colab": {
          "base_uri": "https://localhost:8080/"
        },
        "id": "I2GZgiU-I2NJ",
        "outputId": "8bda12b6-fef9-4b48-c8f5-1ee16acd3ad7"
      },
      "execution_count": null,
      "outputs": [
        {
          "output_type": "stream",
          "name": "stdout",
          "text": [
            "6\n",
            "2\n",
            "1 6 9 3 6 7\n",
            "5\n"
          ]
        }
      ]
    },
    {
      "cell_type": "code",
      "source": [
        "from collections import deque\n",
        "\n",
        "n = int(input())\n",
        "k = int(input())\n",
        "num = sorted(list(map(int, input().split())))\n",
        "\n",
        "if k >= n:\n",
        "    print(0)\n",
        "\n",
        "else:\n",
        "  dist = []\n",
        "  for i in range(1, n):\n",
        "     dist.append(num[i] - num[i-1])\n",
        "\n",
        "  answer = deque(sorted(dist,reverse=True))\n",
        "  for _ in range(k-1):\n",
        "      answer.popleft()\n",
        "\n",
        "  print(sum(list(answer)))"
      ],
      "metadata": {
        "colab": {
          "base_uri": "https://localhost:8080/"
        },
        "id": "rWhfZb8ZSmtV",
        "outputId": "0da5829e-036e-497f-bc5c-746d7bdbcc41"
      },
      "execution_count": null,
      "outputs": [
        {
          "output_type": "stream",
          "name": "stdout",
          "text": [
            "6\n",
            "2\n",
            "1 6 9 3 6 7\n",
            "5\n"
          ]
        }
      ]
    },
    {
      "cell_type": "code",
      "source": [
        "n=int(input())\n",
        "\n",
        "info=[list(map(int,input().split())) for _ in range(n)]\n",
        "\n",
        "d, o = map(int, input().split())"
      ],
      "metadata": {
        "colab": {
          "base_uri": "https://localhost:8080/"
        },
        "id": "tAyPS3eceZQd",
        "outputId": "4b7c007e-f4e6-44b6-ca46-86ce3150d927"
      },
      "execution_count": null,
      "outputs": [
        {
          "name": "stdout",
          "output_type": "stream",
          "text": [
            "4\n",
            "4 4\n",
            "5 2\n",
            "11 5\n",
            "15 10\n",
            "25 10\n"
          ]
        }
      ]
    },
    {
      "cell_type": "code",
      "source": [
        "print(info)\n",
        "\n",
        "\n",
        "from collections import deque\n",
        "#s가 o보다 클때\n",
        "\n",
        "#s가 o보다 작거나 같을때\n",
        "\n",
        "if s<=o:\n",
        "  print(0)\n",
        "\n",
        "elif s>o:\n",
        "  if len(befo)==0: #기름을 아에 넣을 수 없을 때\n",
        "    print(-1)\n",
        "  \n",
        "  else:\n",
        "    for st, ot in info:\n",
        "        \n",
        "        break\n",
        "\n",
        "    elif "
      ],
      "metadata": {
        "colab": {
          "base_uri": "https://localhost:8080/"
        },
        "id": "l1H34kYOfyg8",
        "outputId": "05cffd7d-2154-48cf-ae50-57eee9b3305f"
      },
      "execution_count": null,
      "outputs": [
        {
          "output_type": "stream",
          "name": "stdout",
          "text": [
            "[[4, 4], [5, 2], [11, 5], [15, 10]]\n"
          ]
        }
      ]
    },
    {
      "cell_type": "code",
      "source": [
        "befo=sorted([i for i in info if i[0]<=o], key= lambda x:x[0])\n",
        "\n",
        "aft =[i for i in info if i[0]>o]\n",
        "\n",
        "\n",
        "print(befo)\n",
        "print(aft) "
      ],
      "metadata": {
        "colab": {
          "base_uri": "https://localhost:8080/"
        },
        "id": "y06mhm_xecq3",
        "outputId": "f35ca14d-83c0-4ae6-b4a3-38f648c4dd6c"
      },
      "execution_count": null,
      "outputs": [
        {
          "output_type": "stream",
          "name": "stdout",
          "text": [
            "[[4, 4], [5, 2]]\n",
            "[[11, 5], [15, 10]]\n"
          ]
        }
      ]
    },
    {
      "cell_type": "code",
      "source": [
        "print(numlist)\n",
        "print(distance)\n",
        "print(dd)"
      ],
      "metadata": {
        "colab": {
          "base_uri": "https://localhost:8080/"
        },
        "id": "AU3KYj_dLqNW",
        "outputId": "9f0919e9-4d3f-4543-84f7-9f0fc58259a7"
      },
      "execution_count": null,
      "outputs": [
        {
          "output_type": "stream",
          "name": "stdout",
          "text": [
            "[3, 6, 7, 8, 10, 12, 14, 15, 18, 20]\n",
            "[1, 1, 1, 2, 2, 2, 2, 3, 3]\n",
            "deque([])\n"
          ]
        }
      ]
    },
    {
      "cell_type": "code",
      "source": [
        "print(distance)"
      ],
      "metadata": {
        "colab": {
          "base_uri": "https://localhost:8080/"
        },
        "id": "Elh44iSAGrkf",
        "outputId": "1e5fd137-af79-4b0a-a883-391a06f3dc86"
      },
      "execution_count": null,
      "outputs": [
        {
          "output_type": "stream",
          "name": "stdout",
          "text": [
            "[]\n"
          ]
        }
      ]
    },
    {
      "cell_type": "code",
      "source": [
        "if input()==input():\n",
        "    print(1)\n",
        "else:\n",
        "    print(0)"
      ],
      "metadata": {
        "colab": {
          "base_uri": "https://localhost:8080/"
        },
        "id": "fUSPddfP5Y7c",
        "outputId": "52a46d88-478e-4275-8d69-47d77e1713b6"
      },
      "execution_count": null,
      "outputs": [
        {
          "output_type": "stream",
          "name": "stdout",
          "text": [
            "1\n",
            "1\n",
            "1\n"
          ]
        }
      ]
    },
    {
      "cell_type": "code",
      "source": [
        "from collections import deque\n",
        "\n",
        "n= int(input())\n",
        "k= int(input())\n",
        "\n",
        "numlist=sorted(list(set(map(int, input().split()))))\n",
        "\n",
        "if n!=1:\n",
        "    distance=sorted([numlist[i+1]-numlist[i] for i in range(len(numlist)-1)])\n",
        "    dd = deque(distance)\n",
        "\n",
        "else:\n",
        "    distance=numlist\n",
        "    \n",
        "if k!=1:\n",
        "    for _ in range(k-1):\n",
        "        dd.pop()\n",
        "    print(sum(list(dd)))\n",
        "else:\n",
        "    print(sum(distance))\n",
        "    "
      ],
      "metadata": {
        "colab": {
          "base_uri": "https://localhost:8080/"
        },
        "id": "NJdkg8VnFgJR",
        "outputId": "a8301e73-df95-4f9f-b93b-5d1cc0206296"
      },
      "execution_count": null,
      "outputs": [
        {
          "output_type": "stream",
          "name": "stdout",
          "text": [
            "6\n",
            "2\n",
            "1 6 9 3 6 7\n",
            "5\n"
          ]
        }
      ]
    },
    {
      "cell_type": "code",
      "source": [
        "answer"
      ],
      "metadata": {
        "colab": {
          "base_uri": "https://localhost:8080/"
        },
        "id": "1PZyxkLi12gC",
        "outputId": "3bea3f32-2e56-442c-d988-1e36e48d4047"
      },
      "execution_count": null,
      "outputs": [
        {
          "output_type": "execute_result",
          "data": {
            "text/plain": [
              "['1 6', '2 5', '3 4']"
            ]
          },
          "metadata": {},
          "execution_count": 5
        }
      ]
    },
    {
      "cell_type": "code",
      "source": [
        "import sys\n",
        "n= int(input())\n",
        "n_list = input().split()\n",
        "n_set = set(n_list)\n",
        "\n",
        "m= int(input())\n",
        "m_list = input().split()\n",
        "\n",
        "answer=[]\n",
        "\n",
        "ndic={i:0 for i in n_set}\n",
        "for i in n_list:\n",
        "    ndic[i]+=1\n",
        " \n",
        "for i in m_list:\n",
        "    if i in ndic:\n",
        "        print(ndic[i], end=\" \")\n",
        "    else :\n",
        "        print(0, end=\" \")"
      ],
      "metadata": {
        "colab": {
          "base_uri": "https://localhost:8080/"
        },
        "id": "kjFVgiR5QZ36",
        "outputId": "3f2b3651-d454-4853-d198-d6a9ea4199e0"
      },
      "execution_count": null,
      "outputs": [
        {
          "output_type": "stream",
          "name": "stdout",
          "text": [
            "10\n",
            "6 3 2 10 10 10 -10 -10 7 3\n",
            "8\n",
            "10 9 -5 2 3 4 5 -10\n",
            "3 0\n",
            "0\n",
            "1 2 0\n",
            "0\n",
            "2 "
          ]
        }
      ]
    },
    {
      "cell_type": "code",
      "source": [
        "import math\n",
        "from math import pi\n",
        "\n",
        "x1, y1, r1, x2, y2, r2 = map(float, input().split())\n",
        "\n",
        "def answer(x1, y1, r1, x2, y2, r2):\n",
        "  A=2*(x1-x2)\n",
        "  B=2*(y1-y2)\n",
        "  C=(x2**2+y2**2-r2**2-x1**2-y1**2+r1**2)\n",
        "\n",
        "  l1=(abs(A*x1+B*y1+C))/math.sqrt((math.pow(A,2)+math.pow(B,2)))\n",
        "  l2=(abs(A*x2+B*y2+C))/math.sqrt((math.pow(A,2)+math.pow(B,2)))\n",
        "\n",
        "  ang1 = math.acos(l1/r1)*2\n",
        "  ang2 = math.acos(l2/r2)*2\n",
        "\n",
        "  s1=(r1**2)*math.pi*(math.degrees(ang1)/360)+(r2**2)*math.pi*(math.degrees(ang2)/360)\n",
        "  s2=((r1**2)*math.sin(ang1)+(r2**2)*math.sin(ang2))/2\n",
        "\n",
        "  return round(s1-s2,3)\n",
        "\n",
        "print(answer(x1,y1,r1,x2,y2,r2))"
      ],
      "metadata": {
        "colab": {
          "base_uri": "https://localhost:8080/"
        },
        "id": "kPqx3RLhVzUJ",
        "outputId": "36e07d85-ad50-4343-cb3c-4385b586bdaf"
      },
      "execution_count": null,
      "outputs": [
        {
          "output_type": "stream",
          "name": "stdout",
          "text": [
            "20.0 30.0 15.0 40.0 30.0 30.0\n",
            "210.801\n"
          ]
        }
      ]
    },
    {
      "cell_type": "code",
      "source": [
        "import math\n",
        "from math import pi\n",
        "\n",
        "x1, y1, r1, x2, y2, r2 = map(float, input().split())\n",
        "\n",
        "\n",
        "A=2*(x1-x2)\n",
        "B=2*(y1-y2)\n",
        "C=(x2**2+y2**2-r2**2-x1**2-y1**2+r1**2)\n",
        "\n",
        "l1=(abs(A*x1+B*y1+C))/math.sqrt(A**2+B**2)\n",
        "l2=(abs(A*x2+B*y2+C))/math.sqrt(A**2+B**2)\n",
        "\n",
        "ang1 = math.acos(l1/r1)*2\n",
        "ang2 = math.acos(l2/r2)*2\n",
        "\n",
        "s1=(r1**2)*math.pi*(math.degrees(ang1)/360)+(r2**2)*math.pi*(math.degrees(ang2)/360)\n",
        "s2=((r1**2)*math.sin(ang1)+(r2**2)*math.sin(ang2))/2\n",
        "\n"
      ],
      "metadata": {
        "colab": {
          "base_uri": "https://localhost:8080/"
        },
        "id": "SIk1hAxno1pM",
        "outputId": "5cfcafef-a999-4f90-b74a-6e9fed876a74"
      },
      "execution_count": null,
      "outputs": [
        {
          "name": "stdout",
          "output_type": "stream",
          "text": [
            "20.0 30.0 15.0 40.0 30.0 30.0\n"
          ]
        }
      ]
    },
    {
      "cell_type": "code",
      "source": [
        "print(round(r2**2*math.pi-(s1-s2),3))\n",
        "print(ang1)\n",
        "print(math.degrees(ang1)/360)\n",
        "math.degrees(2*math.pi)\n",
        "print(s1-s2)\n",
        "s3=r1*(l1+l2)*math.sin(ang1/2)\n",
        "print(s3)\n",
        "s1-s3"
      ],
      "metadata": {
        "colab": {
          "base_uri": "https://localhost:8080/"
        },
        "id": "gA2Ei5HoWa62",
        "outputId": "599ff606-b3dd-4000-a7a0-b6cb3cf7d1c0"
      },
      "execution_count": null,
      "outputs": [
        {
          "output_type": "stream",
          "name": "stdout",
          "text": [
            "2616.632\n",
            "2.1893545317662007\n",
            "0.34844659591123284\n",
            "210.80140237064654\n",
            "449.9450650062044\n"
          ]
        },
        {
          "output_type": "execute_result",
          "data": {
            "text/plain": [
              "210.80140237064649"
            ]
          },
          "metadata": {},
          "execution_count": 186
        }
      ]
    },
    {
      "cell_type": "code",
      "source": [
        "print(ang2)"
      ],
      "metadata": {
        "colab": {
          "base_uri": "https://localhost:8080/"
        },
        "id": "pEJJR7zOsvjL",
        "outputId": "19396a09-7975-4e2a-fddd-46915e3cec60"
      },
      "execution_count": null,
      "outputs": [
        {
          "output_type": "stream",
          "name": "stdout",
          "text": [
            "0.9209868501181186\n"
          ]
        }
      ]
    },
    {
      "cell_type": "code",
      "source": [
        "print((8/3)*math.pi-2*math.sqrt(3))"
      ],
      "metadata": {
        "colab": {
          "base_uri": "https://localhost:8080/"
        },
        "id": "A5w_W46Wr6dx",
        "outputId": "330d7a3b-3bfc-4e4f-fb69-8bf7ea243103"
      },
      "execution_count": null,
      "outputs": [
        {
          "output_type": "stream",
          "name": "stdout",
          "text": [
            "4.913478794435027\n"
          ]
        }
      ]
    },
    {
      "cell_type": "code",
      "source": [
        "s1-s2"
      ],
      "metadata": {
        "colab": {
          "base_uri": "https://localhost:8080/"
        },
        "id": "cX7eBML_q-hs",
        "outputId": "d2cbcd2d-9938-43e5-b2b4-45358f61a228"
      },
      "execution_count": null,
      "outputs": [
        {
          "output_type": "execute_result",
          "data": {
            "text/plain": [
              "210.80140237064654"
            ]
          },
          "metadata": {},
          "execution_count": 171
        }
      ]
    },
    {
      "cell_type": "code",
      "source": [
        "print(s2)\n",
        "print(math.sqrt((x1-x2)**2+(y1-y2)**2)*r2*math.sin(ang2/2))\n",
        "print((l1+l2)*r2*math.sin(ang2/2))\n",
        "print(s1)"
      ],
      "metadata": {
        "colab": {
          "base_uri": "https://localhost:8080/"
        },
        "id": "g368WU_MoF3B",
        "outputId": "216f39de-3ba2-489d-c759-84398614cf3f"
      },
      "execution_count": null,
      "outputs": [
        {
          "output_type": "stream",
          "name": "stdout",
          "text": [
            "449.94506500620435\n",
            "266.63411259626923\n",
            "449.9450650062043\n",
            "660.7464673768509\n"
          ]
        }
      ]
    },
    {
      "cell_type": "code",
      "source": [
        "import math\n",
        "\n",
        "x0, y0, r0, x1, y1, r1 = map(float, input().split())\n",
        "\n",
        "\n",
        "def area(x0, y0, r0, x1, y1, r1):\n",
        "    d = math.sqrt((x0 - x1) ** 2 + (y0 - y1) ** 2)\n",
        "    rr0 = r0 * r0\n",
        "    rr1 = r1 * r1\n",
        "    # Circles do not overlap\n",
        "    if (d > r1 + r0):\n",
        "        return 0\n",
        "    # Circle1 is completely inside circle0\n",
        "    elif (d <= abs(r0 - r1) and r0 >= r1):\n",
        "        return math.pi * rr1\n",
        "    # Circle0 is completely inside circle1\n",
        "    elif (d <= abs(r0 - r1) and r0 < r1):\n",
        "        # Return area of circle0\n",
        "        return math.pi * rr0\n",
        "    # Circles partially overlap\n",
        "    else:\n",
        "        phi = (math.acos((rr0 + (d * d) - rr1) / (2 * r0 * d))) * 2\n",
        "        theta = (math.acos((rr1 + (d * d) - rr0) / (2 * r1 * d))) * 2\n",
        "        area1 = 0.5 * theta * rr1 - 0.5 * rr1 * math.sin(theta)\n",
        "        area2 = 0.5 * phi * rr0 - 0.5 * rr0 * math.sin(phi)\n",
        "\n",
        "        # Return area of intersection\n",
        "        return area1 + area2\n",
        "\n",
        "\n",
        "answer = float(round(1000 * area(x0, y0, r0, x1, y1, r1)) / 1000)\n",
        "print('%.3f' % answer)"
      ],
      "metadata": {
        "colab": {
          "base_uri": "https://localhost:8080/"
        },
        "id": "mZc9K9htkm29",
        "outputId": "a21caf97-121b-47d0-ce8c-d56ff6caba74"
      },
      "execution_count": null,
      "outputs": [
        {
          "output_type": "stream",
          "name": "stdout",
          "text": [
            "20.0 30.0 15.0 40.0 30.0 30.0\n",
            "608.366\n"
          ]
        }
      ]
    },
    {
      "cell_type": "code",
      "source": [
        ""
      ],
      "metadata": {
        "id": "-Af44_h7kvER"
      },
      "execution_count": null,
      "outputs": []
    }
  ]
}