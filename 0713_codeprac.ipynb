{
  "nbformat": 4,
  "nbformat_minor": 0,
  "metadata": {
    "colab": {
      "name": "0713_codeprac.ipynb",
      "provenance": [],
      "authorship_tag": "ABX9TyO9EQ27XDjnqc1XTdWHv5Ly",
      "include_colab_link": true
    },
    "kernelspec": {
      "name": "python3",
      "display_name": "Python 3"
    },
    "language_info": {
      "name": "python"
    }
  },
  "cells": [
    {
      "cell_type": "markdown",
      "metadata": {
        "id": "view-in-github",
        "colab_type": "text"
      },
      "source": [
        "<a href=\"https://colab.research.google.com/github/onlygoodman/coding_practice/blob/main/0713_codeprac.ipynb\" target=\"_parent\"><img src=\"https://colab.research.google.com/assets/colab-badge.svg\" alt=\"Open In Colab\"/></a>"
      ]
    },
    {
      "cell_type": "code",
      "execution_count": 3,
      "metadata": {
        "colab": {
          "base_uri": "https://localhost:8080/"
        },
        "id": "xo_MwYTd9Fas",
        "outputId": "1d9fb212-3002-412e-b9a8-a54124e17f4e"
      },
      "outputs": [
        {
          "output_type": "stream",
          "name": "stdout",
          "text": [
            "3\n",
            "6 10\n",
            "30\n",
            "13 17\n",
            "221\n",
            "1 45000\n",
            "45000\n"
          ]
        }
      ],
      "source": [
        "T=int(input())\n",
        "\n",
        "import math\n",
        "\n",
        "for _ in range(T):\n",
        "  x,y = map(int, input().split())\n",
        "  z=math.gcd(x,y)\n",
        "  print(x*y//z)"
      ]
    },
    {
      "cell_type": "code",
      "source": [
        "from itertools import combinations\n",
        "\n",
        "L, C = map(int, input().split())\n",
        "alist=input().split()\n",
        "\n",
        "Mo=[mo for mo in alist if mo in [\"a\", \"e\", \"i\", \"o\", \"u\"]]\n",
        "Ja=[mo for mo in alist if mo not in [\"a\", \"e\", \"i\", \"o\", \"u\"]]\n",
        "answer=[]\n",
        "\n",
        "\n",
        "for i in range(1,len(Mo)+1):\n",
        "  mocom = list(combinations(Mo,i))\n",
        "  jacom = list(combinations(Ja,L-i))\n",
        "\n",
        "  if C-i>0:\n",
        "    for x in mocom:\n",
        "      for y in jacom:\n",
        "        answer.append(x+y)\n",
        "\n",
        "  else:\n",
        "    for x in mocom:\n",
        "      answer.append(x)\n",
        "\n",
        "p=\"\"\n",
        "real=[]\n",
        "for ans in answer:\n",
        "  for x in sorted(list(ans)):\n",
        "    p+=x\n",
        "  real.append(p)\n",
        "  p=\"\"\n",
        "\n",
        "for ans in sorted(real):\n",
        "  print(ans)"
      ],
      "metadata": {
        "colab": {
          "base_uri": "https://localhost:8080/"
        },
        "id": "F-7MQo7L9fz3",
        "outputId": "96a9a52a-c107-471d-d328-cf9b382f4ac5"
      },
      "execution_count": 16,
      "outputs": [
        {
          "output_type": "stream",
          "name": "stdout",
          "text": [
            "4 6\n",
            "a t c i s w\n",
            "[('a', 't', 'c', 's'), ('a', 't', 'c', 'w'), ('a', 't', 's', 'w'), ('a', 'c', 's', 'w'), ('i', 't', 'c', 's'), ('i', 't', 'c', 'w'), ('i', 't', 's', 'w'), ('i', 'c', 's', 'w'), ('a', 'i', 't', 'c'), ('a', 'i', 't', 's'), ('a', 'i', 't', 'w'), ('a', 'i', 'c', 's'), ('a', 'i', 'c', 'w'), ('a', 'i', 's', 'w')]\n"
          ]
        }
      ]
    },
    {
      "cell_type": "code",
      "source": [
        "p=\"\"\n",
        "real=[]\n",
        "for ans in answer:\n",
        "  for x in sorted(list(ans)):\n",
        "    p+=x\n",
        "  real.append(p)\n",
        "  p=\"\"\n",
        "\n",
        "for ans in sorted(real):\n",
        "  print(ans)"
      ],
      "metadata": {
        "colab": {
          "base_uri": "https://localhost:8080/"
        },
        "id": "Is7E6qFuDk5k",
        "outputId": "7c5a5f7c-ad3a-4598-a4e5-143f24a037a7"
      },
      "execution_count": 25,
      "outputs": [
        {
          "output_type": "stream",
          "name": "stdout",
          "text": [
            "acis\n",
            "acit\n",
            "aciw\n",
            "acst\n",
            "acsw\n",
            "actw\n",
            "aist\n",
            "aisw\n",
            "aitw\n",
            "astw\n",
            "cist\n",
            "cisw\n",
            "citw\n",
            "istw\n"
          ]
        }
      ]
    },
    {
      "cell_type": "code",
      "source": [
        "print(Mo, Ja)\n",
        "print(mocom, jacom)"
      ],
      "metadata": {
        "colab": {
          "base_uri": "https://localhost:8080/"
        },
        "id": "Be4tL5lXC4al",
        "outputId": "ae31929b-138c-4fb7-dfea-6fb8a81e9c15"
      },
      "execution_count": 10,
      "outputs": [
        {
          "output_type": "stream",
          "name": "stdout",
          "text": [
            "['a', 'i'] ['t', 'c', 's', 'w']\n",
            "[('a',), ('i',)] []\n"
          ]
        }
      ]
    },
    {
      "cell_type": "code",
      "source": [
        "from itertools import combinations\n",
        "x=[1,2,3]\n",
        "print(list(combinations(x,0)))"
      ],
      "metadata": {
        "colab": {
          "base_uri": "https://localhost:8080/"
        },
        "id": "7R0LynaAB7ME",
        "outputId": "ffb2e052-b37a-43b1-8d1e-b1141782aa4c"
      },
      "execution_count": 26,
      "outputs": [
        {
          "output_type": "stream",
          "name": "stdout",
          "text": [
            "[()]\n"
          ]
        }
      ]
    },
    {
      "cell_type": "code",
      "source": [
        "from itertools import combinations\n",
        "\n",
        "L, C = map(int, input().split())\n",
        "alist=input().split()\n",
        "\n",
        "Mo=[mo for mo in alist if mo in [\"a\", \"e\", \"i\", \"o\", \"u\"]]\n",
        "Ja=[ja for ja in alist if ja not in [\"a\", \"e\", \"i\", \"o\", \"u\"]]\n",
        "answer=[]\n",
        "\n",
        "jl=len(Ja)\n",
        "ml=len(Mo)\n",
        "\n",
        "for i in range(1,min(ml,L)+1):\n",
        "\n",
        "  mocom = list(combinations(Mo,i))\n",
        "  jacom = list(combinations(Ja,L-i))\n",
        "  \n",
        "  for x in mocom:\n",
        "    for y in jacom:\n",
        "      answer.append(x+y)\n",
        "    \n",
        "p=\"\"\n",
        "real=[]\n",
        "for ans in answer:\n",
        "  for x in sorted(list(ans)):\n",
        "    p+=x\n",
        "  real.append(p)\n",
        "  p=\"\"\n",
        "\n",
        "for ans in sorted(real):\n",
        "  print(ans)"
      ],
      "metadata": {
        "colab": {
          "base_uri": "https://localhost:8080/"
        },
        "id": "WgHY6usNG6I6",
        "outputId": "0037fc6d-23af-4799-9d65-242ed7ec4206"
      },
      "execution_count": 33,
      "outputs": [
        {
          "output_type": "stream",
          "name": "stdout",
          "text": [
            "4 6\n",
            "a e i o u cc\n",
            "accei\n",
            "acceo\n",
            "acceu\n",
            "accio\n",
            "acciu\n",
            "accou\n",
            "aeio\n",
            "aeiu\n",
            "aeou\n",
            "aiou\n",
            "cceio\n",
            "cceiu\n",
            "cceou\n",
            "cciou\n",
            "eiou\n"
          ]
        }
      ]
    }
  ]
}