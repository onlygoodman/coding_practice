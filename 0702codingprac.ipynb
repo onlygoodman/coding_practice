{
  "nbformat": 4,
  "nbformat_minor": 0,
  "metadata": {
    "colab": {
      "name": "0702codingprac.ipynb",
      "provenance": []
    },
    "kernelspec": {
      "name": "python3",
      "display_name": "Python 3"
    },
    "language_info": {
      "name": "python"
    }
  },
  "cells": [
    {
      "cell_type": "code",
      "execution_count": null,
      "metadata": {
        "id": "nar4-CzKeWbI"
      },
      "outputs": [],
      "source": [
        "def solution(n,m):\n",
        "    \n",
        "    if n%m==0:\n",
        "        print(\"multiple\")\n",
        "    \n",
        "    elif m%n==0:\n",
        "        print(\"factor\")\n",
        "        \n",
        "    else:\n",
        "        print(\"neither\")\n",
        "\n",
        "\n",
        "while True:\n",
        "  n,m = map(int, input().split())\n",
        "  if (n,m)==(0,0):\n",
        "    break\n",
        "    \n",
        "  solution(n, m)"
      ]
    },
    {
      "cell_type": "code",
      "source": [
        "#10815\n",
        "\n",
        "from collections import deque\n",
        "\n",
        "M=int(input())\n",
        "my_card=set(map(int, input().split()))\n",
        "\n",
        "N=int(input())\n",
        "check_card=list(map(int, input().split()))\n",
        "\n",
        "for i in check_card:\n",
        "  if set([i]).difference(my_card):\n",
        "    print(0,end=\" \")\n",
        "  else :\n",
        "    print(1, end=\" \")"
      ],
      "metadata": {
        "id": "MobxyqFLeeYE"
      },
      "execution_count": null,
      "outputs": []
    }
  ]
}