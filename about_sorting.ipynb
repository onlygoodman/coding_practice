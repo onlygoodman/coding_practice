{
  "nbformat": 4,
  "nbformat_minor": 0,
  "metadata": {
    "colab": {
      "name": "about_sorting",
      "provenance": []
    },
    "kernelspec": {
      "name": "python3",
      "display_name": "Python 3"
    },
    "language_info": {
      "name": "python"
    }
  },
  "cells": [
    {
      "cell_type": "code",
      "execution_count": null,
      "metadata": {
        "colab": {
          "base_uri": "https://localhost:8080/"
        },
        "id": "m9PU8ckGeBYx",
        "outputId": "6fda9ce1-2378-4b5d-918e-7d9066e97970"
      },
      "outputs": [
        {
          "output_type": "stream",
          "name": "stdout",
          "text": [
            "[0, 1, 2, 3, 4, 5, 6, 7, 8, 9]\n"
          ]
        }
      ],
      "source": [
        "#6-1 선택정렬\n",
        "\n",
        "array = [7,5,9,0,3,1,6,2,4,8]\n",
        "\n",
        "for i in range(len(array)):\n",
        "  min_index = i\n",
        "  for j in range(i+1, len(array)):\n",
        "    if array[min_index] > array[j]:\n",
        "      min_index = j\n",
        "  array[i], array[min_index] = array[min_index], array[i]\n",
        "\n",
        "print(array)"
      ]
    },
    {
      "cell_type": "code",
      "source": [
        "#6-3 삽입정렬\n",
        "\n",
        "array = [7,5,9,0,3,1,6,2,4,8]\n",
        "\n",
        "for i in range(1, len(array)):\n",
        "  for j in range(i, 0, -1):\n",
        "    if array[j]< array[j-1]:\n",
        "      array[j], array[j-1] = array[j-1], array[j]\n",
        "    else:\n",
        "      break\n",
        "\n",
        "print(array)"
      ],
      "metadata": {
        "colab": {
          "base_uri": "https://localhost:8080/"
        },
        "id": "Q6sdrW3LjuUE",
        "outputId": "2cb6550c-d80a-4f6b-d1ce-a27dba4e6eef"
      },
      "execution_count": null,
      "outputs": [
        {
          "output_type": "stream",
          "name": "stdout",
          "text": [
            "[0, 1, 2, 3, 4, 5, 6, 7, 8, 9]\n"
          ]
        }
      ]
    },
    {
      "cell_type": "code",
      "source": [
        "#6-4 퀵 정렬 소스코드\n",
        "\n",
        "array = [5, 7, 9, 0, 3, 1, 6, 2, 4, 8]\n",
        "\n",
        "def quick_sort1(array, start, end):\n",
        "  if start >= end: #start인덱스와 end인덱스가 같아지면 원소가 하나라는 뜻 더이상 정렬 할 것이 없으므로 종료\n",
        "    return\n",
        "  \n",
        "  pivot = start #호어분할 방식을 이용한 첫번째 숫자를 기준으로 정렬\n",
        "  left = start +1\n",
        "  right = end\n",
        "\n",
        "  while left <= right:\n",
        "    while left <= end and array[left]<= array[pivot]:\n",
        "      left+=1\n",
        "    \n",
        "    while right > start and array[right] >= array[pivot]:\n",
        "      right -=1\n",
        "    \n",
        "    #엇갈린 부분에서 작은값과 pivot의 값을 변경\n",
        "    if left>right:\n",
        "      array[right], array[pivot] = array[pivot], array[right]\n",
        "    \n",
        "    #그렇지 않다면 큰 것을 뒤로 작은 것을 앞으로\n",
        "    else :\n",
        "      array[left], array[right] = array[right], array[left]\n",
        "    \n",
        "    #분할 이후 왼쪽 부분과 오른쪽 부분에서 각각 정렬 수행\n",
        "    quick_sort1(array, start, right-1)\n",
        "    quick_sort1(array, right+1, end)\n",
        "\n",
        "quick_sort1(array, 0, len(array)-1)\n",
        "print(array)\n"
      ],
      "metadata": {
        "colab": {
          "base_uri": "https://localhost:8080/"
        },
        "id": "zFGZygnZtJwk",
        "outputId": "82654568-9ad0-4571-c477-62489ecfc298"
      },
      "execution_count": null,
      "outputs": [
        {
          "output_type": "stream",
          "name": "stdout",
          "text": [
            "[0, 1, 2, 3, 4, 5, 6, 7, 8, 9]\n"
          ]
        }
      ]
    },
    {
      "cell_type": "code",
      "source": [
        "#6-5 퀵정렬 코드 2\n",
        "\n",
        "array = [5, 7, 9, 0, 3, 1, 6, 2, 4, 8]\n",
        "\n",
        "\n",
        "def quick_sort2(array):\n",
        "  if len(array)<= 1:\n",
        "    return array\n",
        "\n",
        "  pivot=array[0]\n",
        "  tail = array[1:]\n",
        "\n",
        "  left_side=[x for x in tail if x<=pivot]\n",
        "  right_side=[x for x in tail if x>pivot]\n",
        "\n",
        "  return quick_sort2(left_side)+[pivot]+quick_sort2(right_side)\n",
        "\n",
        "sort_array = quick_sort2(array)\n",
        "print(sort_array)"
      ],
      "metadata": {
        "colab": {
          "base_uri": "https://localhost:8080/"
        },
        "id": "Koziea6_vBfY",
        "outputId": "560f24d7-ddd2-429b-c506-91478df53b73"
      },
      "execution_count": null,
      "outputs": [
        {
          "output_type": "stream",
          "name": "stdout",
          "text": [
            "[0, 1, 2, 3, 4, 5, 6, 7, 8, 9]\n"
          ]
        }
      ]
    },
    {
      "cell_type": "code",
      "source": [
        "#6-6 계수 정렬 소스코드\n",
        "\n",
        "array = [7, 5, 9, 0, 3, 1, 6, 2, 9, 1, 4, 8, 0, 5, 2]\n",
        "\n",
        "array_count=[0]*max(array)+[0]\n",
        "\n",
        "for i in array:\n",
        "  array_count[i]+=1\n",
        "\n",
        "for i in range(len(array_count)):\n",
        "  for j in range(array_count[i]):\n",
        "    print(i, end=' ')"
      ],
      "metadata": {
        "colab": {
          "base_uri": "https://localhost:8080/"
        },
        "id": "0KeJ3Yas1g4h",
        "outputId": "8bbde710-f169-43ac-d3ee-bf3eade1eedd"
      },
      "execution_count": null,
      "outputs": [
        {
          "output_type": "stream",
          "name": "stdout",
          "text": [
            "0 0 1 1 2 2 3 4 5 5 6 7 8 9 9 "
          ]
        }
      ]
    },
    {
      "cell_type": "code",
      "source": [
        "#실전문제\n",
        "\n",
        "n, m = map(int, input().split())\n",
        "a=list(map(int, input().split()))\n",
        "b=list(map(int, input().split()))\n",
        "\n",
        "a.sort()\n",
        "b.sort(reverse=True)\n",
        "print(a)\n",
        "\n",
        "for i in range(m):\n",
        "  if a[i]<b[i]:\n",
        "    a[i], b[i]=b[i], a[i]\n",
        "\n",
        "  else:\n",
        "    break\n",
        "print(a)"
      ],
      "metadata": {
        "colab": {
          "base_uri": "https://localhost:8080/"
        },
        "id": "rZM_HZ0Y38zB",
        "outputId": "5d3427f4-6741-4c27-887f-6d7aa7aa6c9f"
      },
      "execution_count": null,
      "outputs": [
        {
          "name": "stdout",
          "output_type": "stream",
          "text": [
            "5 3\n",
            "1 2 5 4 3\n",
            "5 5 6 6 5\n"
          ]
        }
      ]
    }
  ]
}