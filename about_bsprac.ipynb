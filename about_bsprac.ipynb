{
  "nbformat": 4,
  "nbformat_minor": 0,
  "metadata": {
    "colab": {
      "name": "about_bsprac.ipynb",
      "provenance": []
    },
    "kernelspec": {
      "name": "python3",
      "display_name": "Python 3"
    },
    "language_info": {
      "name": "python"
    }
  },
  "cells": [
    {
      "cell_type": "code",
      "execution_count": 1,
      "metadata": {
        "colab": {
          "base_uri": "https://localhost:8080/"
        },
        "id": "1ZzjQsGjrOuJ",
        "outputId": "7cfdf5c7-b651-4403-98c7-766a372bdc98"
      },
      "outputs": [
        {
          "output_type": "stream",
          "name": "stdout",
          "text": [
            "4\n"
          ]
        }
      ],
      "source": [
        "def bs(array, target, start, end):\n",
        "  if start>end:\n",
        "    return False\n",
        "\n",
        "  mid = (start+end)//2\n",
        "\n",
        "  if array[mid]==target:\n",
        "    return mid\n",
        "\n",
        "  elif array[mid]>target:\n",
        "    return bs(array, target, start, mid-1)\n",
        "  \n",
        "  else:\n",
        "    return bs(array, target, mid+1, end)\n",
        "\n",
        "nlist = [i for i in range(1, 10)]\n",
        "\n",
        "if bs(nlist, 4, 1, 9):\n",
        "  print(bs(nlist, 4, 1, 9)+1)"
      ]
    },
    {
      "cell_type": "code",
      "source": [
        "n= int(input())\n",
        "m= int(input())\n",
        "xlist=[i for i in range(1, n+1)]\n",
        "nlist=[]\n",
        "\n",
        "for i in xlist:\n",
        "  for j in xlist:\n",
        "    nlist.append(i*j)\n",
        "\n",
        "nlist = sorted(nlist)\n",
        "print(nlist[m-1])"
      ],
      "metadata": {
        "colab": {
          "base_uri": "https://localhost:8080/"
        },
        "id": "2a-pDuUPubDV",
        "outputId": "a83e28b0-e81f-4e6e-aadc-5996b7ef1567"
      },
      "execution_count": 3,
      "outputs": [
        {
          "output_type": "stream",
          "name": "stdout",
          "text": [
            "3\n",
            "7\n",
            "6\n"
          ]
        }
      ]
    },
    {
      "cell_type": "code",
      "source": [
        "def sol(array, target, start, end):\n",
        "  while start<=end:\n",
        "    mid = (start+end)//2\n",
        "\n",
        "    count=0\n",
        "    for i in range(1, n+1):\n",
        "      count += min(n, mid//i)\n",
        "    \n",
        "    if count==target:\n",
        "      return "
      ],
      "metadata": {
        "id": "p9KP5y5ZxNbg"
      },
      "execution_count": null,
      "outputs": []
    },
    {
      "cell_type": "code",
      "source": [
        "n, k = int(input()), int(input())\n",
        "start, end = 1, k\n",
        "\n",
        "while start <= end:\n",
        "    mid = (start + end) // 2\n",
        "    \n",
        "    count = 0\n",
        "    for i in range(1, n+1):\n",
        "        count += min(mid//i, n)\n",
        "    if count >= k: \n",
        "        answer = mid\n",
        "        end = mid - 1\n",
        "    else:\n",
        "        start = mid + 1\n",
        "print(answer)"
      ],
      "metadata": {
        "colab": {
          "base_uri": "https://localhost:8080/"
        },
        "id": "x67B5Qzy_ODk",
        "outputId": "a39ee3a2-627a-40a5-a191-f40d6aaaf1ff"
      },
      "execution_count": 4,
      "outputs": [
        {
          "output_type": "stream",
          "name": "stdout",
          "text": [
            "3\n",
            "7\n",
            "6\n"
          ]
        }
      ]
    },
    {
      "cell_type": "code",
      "source": [
        "n= int(input())\n",
        "nlist = list(map(int, input().split()))"
      ],
      "metadata": {
        "colab": {
          "base_uri": "https://localhost:8080/"
        },
        "id": "Iz7w5lq9ARxK",
        "outputId": "cbed6b82-93cc-4899-c337-6439a504fd59"
      },
      "execution_count": 6,
      "outputs": [
        {
          "name": "stdout",
          "output_type": "stream",
          "text": [
            "6\n",
            "10 20 10 30 20 50\n"
          ]
        }
      ]
    },
    {
      "cell_type": "code",
      "source": [
        "while start<= end:\n",
        "  mid = (start+end)//2\n",
        "\n",
        "  count=0\n",
        "  af = 0\n",
        "  for i in nlist:\n",
        "    "
      ],
      "metadata": {
        "id": "R3joyDWmA4U4"
      },
      "execution_count": null,
      "outputs": []
    },
    {
      "cell_type": "code",
      "source": [
        "rmlist=[]"
      ],
      "metadata": {
        "id": "uP-Y967lEZZg"
      },
      "execution_count": null,
      "outputs": []
    }
  ]
}