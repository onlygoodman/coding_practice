{
  "nbformat": 4,
  "nbformat_minor": 0,
  "metadata": {
    "colab": {
      "name": "beakjoon_10102.ipynb",
      "provenance": [],
      "authorship_tag": "ABX9TyOkk40wRtbLaJ0aMGqFuTdA",
      "include_colab_link": true
    },
    "kernelspec": {
      "name": "python3",
      "display_name": "Python 3"
    },
    "language_info": {
      "name": "python"
    }
  },
  "cells": [
    {
      "cell_type": "markdown",
      "metadata": {
        "id": "view-in-github",
        "colab_type": "text"
      },
      "source": [
        "<a href=\"https://colab.research.google.com/github/onlygoodman/coding_practice/blob/main/beakjoon_10102.ipynb\" target=\"_parent\"><img src=\"https://colab.research.google.com/assets/colab-badge.svg\" alt=\"Open In Colab\"/></a>"
      ]
    },
    {
      "cell_type": "code",
      "execution_count": null,
      "metadata": {
        "id": "dwJ84zCtIQYm"
      },
      "outputs": [],
      "source": [
        "n=int(input())\n",
        "vote = list(input())\n",
        "\n",
        "a = vote.count(\"A\")\n",
        "b = vote.count(\"B\")\n",
        "\n",
        "if a==b:\n",
        "    print(\"Tie\")\n",
        "    \n",
        "elif a>b:\n",
        "    print(\"A\")\n",
        "else:\n",
        "    print(\"B\")"
      ]
    }
  ]
}