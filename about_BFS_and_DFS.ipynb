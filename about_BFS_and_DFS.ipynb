{
  "nbformat": 4,
  "nbformat_minor": 0,
  "metadata": {
    "colab": {
      "name": "about_BFS_and_DFS",
      "provenance": []
    },
    "kernelspec": {
      "name": "python3",
      "display_name": "Python 3"
    },
    "language_info": {
      "name": "python"
    }
  },
  "cells": [
    {
      "cell_type": "code",
      "execution_count": null,
      "metadata": {
        "colab": {
          "base_uri": "https://localhost:8080/"
        },
        "id": "lLC6mXAkrFxh",
        "outputId": "91f23843-b8df-47f7-f5be-795bfeb7bb83"
      },
      "outputs": [
        {
          "output_type": "stream",
          "name": "stdout",
          "text": [
            "1 2 7 6 8 3 4 5 \n",
            "1 2 3 8 7 4 5 6 "
          ]
        }
      ],
      "source": [
        "from collections import deque\n",
        "\n",
        "#BFS method def\n",
        "\n",
        "def bfs(graph, start, visited):\n",
        "  queue = deque([start])\n",
        "  visited[start]=True\n",
        "  while queue:\n",
        "    v=queue.popleft()\n",
        "    print(v, end=' ')\n",
        "\n",
        "    for i in graph[v]:\n",
        "      if not visited[i]:\n",
        "        # print(i, not visited)\n",
        "        queue.append(i)\n",
        "        visited[i]=True\n",
        "\n",
        "def dfs(graph, v, visited):\n",
        "  visited[v]= True\n",
        "  print(v, end=' ')\n",
        "\n",
        "  for i in graph[v]:\n",
        "    if not visited[i]:\n",
        "      dfs(graph, i, visited)\n",
        "\n",
        "graph=[\n",
        "       [],\n",
        "       [2,3,8],\n",
        "       [1,7],\n",
        "       [1,4,5],\n",
        "       [3,5],\n",
        "       [3,4],\n",
        "       [7],\n",
        "       [2,6,8],\n",
        "       [1,7]\n",
        "   ]\n",
        "\n",
        "visited1=[False]*9\n",
        "visited2=[False]*9\n",
        "dfs(graph, 1, visited1)\n",
        "print()\n",
        "bfs(graph, 1, visited2)\n",
        "\n"
      ]
    },
    {
      "cell_type": "code",
      "source": [
        "n,m = map(int, input().split())\n",
        "\n",
        "#2차원의 리스트의 맵 정보 입력받기\n",
        "graph=[]\n",
        "\n",
        "for i in range(n):\n",
        "  graph.append(list(map(int, input())))\n",
        "\n",
        "\n",
        "#DFS로 특정 노드 방문 뒤 연결된 모든 노드들 방문\n",
        "\n",
        "def dfs(x,y):\n",
        "  if x<=-1 or x>=n or y<=-1 or y>=m:\n",
        "    return False\n",
        "  \n",
        "  if graph[x][y]==0:\n",
        "    #방문처리\n",
        "    graph[x][y]=1\n",
        "\n",
        "    dfs(x-1,y)\n",
        "    dfs(x,y-1)\n",
        "    dfs(x+1,y)\n",
        "    dfs(x,y+1)\n",
        "    return True\n",
        "  return False\n",
        "\n",
        "result =0\n",
        "for i in range(n):\n",
        "  for j in range(m):\n",
        "    if dfs(i, j)==True:\n",
        "      result+=1\n",
        "print(result)\n",
        "print(graph)"
      ],
      "metadata": {
        "colab": {
          "base_uri": "https://localhost:8080/"
        },
        "id": "0e6gN84KvG9i",
        "outputId": "6b16c66d-fd93-495d-9761-b6599f2c7581"
      },
      "execution_count": null,
      "outputs": [
        {
          "output_type": "stream",
          "name": "stdout",
          "text": [
            "3 3\n",
            "001\n",
            "010\n",
            "101\n",
            "3\n",
            "[[1, 1, 1], [1, 1, 1], [1, 1, 1]]\n"
          ]
        }
      ]
    },
    {
      "cell_type": "code",
      "source": [
        "from collections import deque\n",
        "\n",
        "a,b=map(int, input().split())\n",
        "\n",
        "graph=[]\n",
        "\n",
        "for i in range(a):\n",
        "  graph.append(list(map(int, input())))\n",
        "\n",
        "dx=[-1,1,0,0]\n",
        "dy=[0,0,-1,1]\n",
        "\n",
        "n=len(graph)\n",
        "m=len(graph[0])\n",
        "\n",
        "def bfs(x,y):\n",
        "  q=deque()\n",
        "  q.append((x,y))\n",
        "\n",
        "  while q:\n",
        "    x,y = q.popleft()\n",
        "    for i in range(4):\n",
        "      nx= x+dx[i]\n",
        "      ny= y+dy[i]\n",
        "\n",
        "      if nx<0 or ny<0 or nx>=n or ny>=m:\n",
        "        continue\n",
        "      \n",
        "      if graph[nx][ny]==0:\n",
        "        continue\n",
        "      \n",
        "      if graph[nx][ny]==1:\n",
        "        graph[nx][ny]= graph[x][y]+1\n",
        "        q.append((nx,ny))\n",
        "\n",
        "  return graph[a-1][b-1]\n",
        "\n",
        "print(bfs(0,0))\n",
        "# print(graph)"
      ],
      "metadata": {
        "colab": {
          "base_uri": "https://localhost:8080/"
        },
        "id": "fE7uHe2IzLq0",
        "outputId": "966538e8-9695-49fe-c306-dfa78fb0aed9"
      },
      "execution_count": null,
      "outputs": [
        {
          "output_type": "stream",
          "name": "stdout",
          "text": [
            "2 25\n",
            "1011101110111011101110111\n",
            "1110111011101110111011101\n",
            "38\n"
          ]
        }
      ]
    },
    {
      "cell_type": "code",
      "source": [
        "print(type(p))"
      ],
      "metadata": {
        "colab": {
          "base_uri": "https://localhost:8080/"
        },
        "id": "IESrxsBf4ibK",
        "outputId": "64b555a6-f612-4cab-9262-98d794f26759"
      },
      "execution_count": null,
      "outputs": [
        {
          "output_type": "stream",
          "name": "stdout",
          "text": [
            "<class 'int'>\n"
          ]
        }
      ]
    },
    {
      "cell_type": "code",
      "source": [
        "print(graph[3][5])"
      ],
      "metadata": {
        "colab": {
          "base_uri": "https://localhost:8080/"
        },
        "id": "jnVjRwovLL4z",
        "outputId": "632ea808-86b4-47b7-acf0-dd81faaffda8"
      },
      "execution_count": null,
      "outputs": [
        {
          "output_type": "stream",
          "name": "stdout",
          "text": [
            "15\n"
          ]
        }
      ]
    },
    {
      "cell_type": "code",
      "source": [
        "x=input()\n",
        "print(list(map(int, x)))"
      ],
      "metadata": {
        "colab": {
          "base_uri": "https://localhost:8080/"
        },
        "id": "q8uqQ8DqvguD",
        "outputId": "c874347c-1b0a-4da6-ec63-3385b5f3af5a"
      },
      "execution_count": null,
      "outputs": [
        {
          "output_type": "stream",
          "name": "stdout",
          "text": [
            "123\n",
            "[1, 2, 3]\n"
          ]
        }
      ]
    },
    {
      "cell_type": "code",
      "source": [
        "for i in range(4):\n",
        "  if i==3:\n",
        "    continue\n",
        "  print(i)"
      ],
      "metadata": {
        "colab": {
          "base_uri": "https://localhost:8080/"
        },
        "id": "dTXjLfbwz4Y_",
        "outputId": "54f647b1-6e9c-423e-f78d-9cd61013e669"
      },
      "execution_count": null,
      "outputs": [
        {
          "output_type": "stream",
          "name": "stdout",
          "text": [
            "0\n",
            "1\n",
            "2\n"
          ]
        }
      ]
    },
    {
      "cell_type": "code",
      "source": [
        "ab=\"abcdef\"\n",
        "print(ab[1:3])"
      ],
      "metadata": {
        "colab": {
          "base_uri": "https://localhost:8080/"
        },
        "id": "taUYaiYv_c3M",
        "outputId": "06f21310-1e8a-485a-83f3-25102f97f454"
      },
      "execution_count": null,
      "outputs": [
        {
          "output_type": "stream",
          "name": "stdout",
          "text": [
            "bc\n"
          ]
        }
      ]
    },
    {
      "cell_type": "code",
      "source": [
        "def solution(s):\n",
        "    \n",
        "    ls = len(s)\n",
        "    if even_odd(ls):                #짝수이면\n",
        "        rn = ls//2                  #탐색범위\n",
        "        \n",
        "        a=0                         #비교되는 인덱스\n",
        "        b=0                         #비교할 인덱스\n",
        "        \n",
        "        for i in range(1,rn+1):     #1개부터 rn개 까지 단계적으로 잘라서 비교\n",
        "            b=a+i+1\n",
        "            c=b+i+1\n",
        "            count=0\n",
        "            while compare(s[a:b], s[b:c]):\n",
        "                a=b\n",
        "                b=c\n",
        "                c=b+i+1\n",
        "                count+=1\n",
        "\n",
        "                if c>=ls:\n",
        "                    break\n",
        "            \n",
        "            if count>0:\n",
        "                \n",
        "            \n",
        "    \n",
        "    else:               #홀수이면\n",
        "        rn = (ls-1)//2  #탐색범위 ls-1 //2 \n",
        "    \n",
        "    answer = 0\n",
        "    return answer\n",
        "\n",
        "def even_odd(n):\n",
        "    if n%2==0:\n",
        "        return True #짝수이면 True\n",
        "    else:\n",
        "        return False #홀수이면 False\n",
        "    \n",
        "def compare(x,y): #x와 y가 같은지 비교\n",
        "    if x==y:\n",
        "        return True\n",
        "    else x!=y:\n",
        "        return False\n",
        "    \n",
        "    "
      ],
      "metadata": {
        "id": "_3HeQfADCzgn"
      },
      "execution_count": null,
      "outputs": []
    },
    {
      "cell_type": "code",
      "source": [
        "seq = \"ababacacaaa\"\n",
        "\n",
        "length=2\n",
        "x= [seq[i:i+length] for i in range(0, len(seq), length)]\n",
        "print(seq)\n",
        "print(x)"
      ],
      "metadata": {
        "colab": {
          "base_uri": "https://localhost:8080/"
        },
        "id": "WXxjlFO0E0lQ",
        "outputId": "f150fc8a-0a7c-4f19-ef78-78fd4a71b262"
      },
      "execution_count": null,
      "outputs": [
        {
          "output_type": "stream",
          "name": "stdout",
          "text": [
            "ababacacaaa\n",
            "['ab', 'ab', 'ac', 'ac', 'aa', 'a']\n"
          ]
        }
      ]
    },
    {
      "cell_type": "code",
      "source": [
        "s = 'aabcccaaaaas'\n",
        "\n",
        "result = [[x[0]]]  # 첫번째 값을 결과에 넣는다\n",
        "count  = 0   #\n",
        "\n",
        "for st in x:\n",
        "    if st == result[-1]:  #\n",
        "        count += 1\n",
        "    else:\n",
        "        result[-1].append(str(count) + st)\n",
        "        count = 1\n",
        "        \n",
        "result[-1].append(str(count))\n",
        "\n",
        "print(result)\n"
      ],
      "metadata": {
        "colab": {
          "base_uri": "https://localhost:8080/"
        },
        "id": "ga8ubjhLHDrT",
        "outputId": "20d4b725-2847-4136-ce7c-0100f667be31"
      },
      "execution_count": null,
      "outputs": [
        {
          "output_type": "stream",
          "name": "stdout",
          "text": [
            "[['ab', '0ab', '1ab', '1ac', '1ac', '1aa', '1a', '1']]\n"
          ]
        }
      ]
    },
    {
      "cell_type": "code",
      "source": [
        "s = 'aabcccaaaaas'\n",
        "# s=list(s)\n",
        "length=2\n",
        "s=[s[i:i+length] for i in range(0, len(s), length)]\n",
        "\n",
        "answer = \"\"\n",
        "count  = 0   #\n",
        "cw=s[0]\n",
        "for st in s:\n",
        "  if st == cw:\n",
        "    count +=1\n",
        "  \n",
        "  else :\n",
        "    answer+= str(count)+cw\n",
        "    cw=st\n",
        "    count=1\n",
        "\n",
        "answer += str(count)+cw\n",
        "\n",
        "print(answer)\n",
        "answer = answer.replace(\"1\", \"\")\n",
        "print(answer)"
      ],
      "metadata": {
        "colab": {
          "base_uri": "https://localhost:8080/"
        },
        "id": "6m8a1U4bISpM",
        "outputId": "3ce66e2d-0bec-406c-a020-c614244cae61"
      },
      "execution_count": null,
      "outputs": [
        {
          "output_type": "stream",
          "name": "stdout",
          "text": [
            "1aa1bc1cc2aa1as\n",
            "aabccc2aaas\n"
          ]
        }
      ]
    },
    {
      "cell_type": "code",
      "source": [
        "from collections import deque\n",
        "\n",
        "#BFS method def\n",
        "\n",
        "def bfs(graph, start, visited):\n",
        "  queue = deque([start])\n",
        "  visited[start]=True\n",
        "  while queue:\n",
        "    v=queue.popleft()\n",
        "    print(v, end=' ')\n",
        "\n",
        "    for i in graph[v]:\n",
        "      if not visited[i]:\n",
        "        # print(i, not visited)\n",
        "        queue.append(i)\n",
        "        visited[i]=True\n",
        "\n",
        "def dfs(graph, v, visited):\n",
        "  visited[v]= True\n",
        "  print(v, end=' ')\n",
        "\n",
        "  for i in graph[v]:\n",
        "    if not visited[i]:\n",
        "      dfs(graph, i, visited)\n",
        "    \n",
        "n, m, k= map(int, input().split())\n",
        "\n",
        "graph=[[] for i in range(n+1)]\n",
        "\n",
        "\n",
        "for i in range(m):\n",
        "  x,y=map(int, input().split())\n",
        "  graph[x].append(y)\n",
        "  graph[y].append(x)\n",
        "\n",
        "g=[]\n",
        "for i in graph:\n",
        "  g.append(sorted(i))\n",
        "\n",
        "v1=[False]*(n+1)\n",
        "v2=[False]*(n+1)\n",
        "    \n",
        "dfs(g, k, v1)\n",
        "print()           \n",
        "bfs(g, k, v2)           "
      ],
      "metadata": {
        "colab": {
          "base_uri": "https://localhost:8080/"
        },
        "id": "jdy_rdDkvTv4",
        "outputId": "5566555e-7f2c-4791-f326-51677ed058a5"
      },
      "execution_count": null,
      "outputs": [
        {
          "output_type": "stream",
          "name": "stdout",
          "text": [
            "1000 1 1000\n",
            "999 1000\n",
            "1000 999 \n",
            "1000 999 "
          ]
        }
      ]
    },
    {
      "cell_type": "code",
      "source": [
        "x=[]\n",
        "sorted(x)"
      ],
      "metadata": {
        "colab": {
          "base_uri": "https://localhost:8080/"
        },
        "id": "A9UwBzDQ0Dq7",
        "outputId": "df5b8a93-cc00-45ca-b5a2-6c0c64901a60"
      },
      "execution_count": null,
      "outputs": [
        {
          "output_type": "execute_result",
          "data": {
            "text/plain": [
              "[]"
            ]
          },
          "metadata": {},
          "execution_count": 20
        }
      ]
    },
    {
      "cell_type": "code",
      "source": [
        "print(g)"
      ],
      "metadata": {
        "colab": {
          "base_uri": "https://localhost:8080/"
        },
        "id": "XHNXzXn0yW5c",
        "outputId": "3b499cac-05b0-427b-8a59-7529c73484ce"
      },
      "execution_count": null,
      "outputs": [
        {
          "output_type": "stream",
          "name": "stdout",
          "text": [
            "[[], [2, 3], [1, 5], [1, 4], [3, 5], [2, 4]]\n"
          ]
        }
      ]
    },
    {
      "cell_type": "code",
      "source": [
        "print(graph)"
      ],
      "metadata": {
        "colab": {
          "base_uri": "https://localhost:8080/"
        },
        "id": "WT6SKFK6yC54",
        "outputId": "563d6055-1411-4f12-e20c-e16c1691159d"
      },
      "execution_count": null,
      "outputs": [
        {
          "output_type": "stream",
          "name": "stdout",
          "text": [
            "[[], [2, 3], [5, 1], [4, 1], [5, 3], [4, 2]]\n"
          ]
        }
      ]
    }
  ]
}