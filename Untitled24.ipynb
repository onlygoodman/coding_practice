{
  "nbformat": 4,
  "nbformat_minor": 0,
  "metadata": {
    "colab": {
      "name": "Untitled24.ipynb",
      "provenance": [],
      "authorship_tag": "ABX9TyOD5Jf5Dl5HNFp96b1lnJH5",
      "include_colab_link": true
    },
    "kernelspec": {
      "name": "python3",
      "display_name": "Python 3"
    },
    "language_info": {
      "name": "python"
    }
  },
  "cells": [
    {
      "cell_type": "markdown",
      "metadata": {
        "id": "view-in-github",
        "colab_type": "text"
      },
      "source": [
        "<a href=\"https://colab.research.google.com/github/onlygoodman/coding_practice/blob/main/Untitled24.ipynb\" target=\"_parent\"><img src=\"https://colab.research.google.com/assets/colab-badge.svg\" alt=\"Open In Colab\"/></a>"
      ]
    },
    {
      "cell_type": "code",
      "execution_count": 8,
      "metadata": {
        "colab": {
          "base_uri": "https://localhost:8080/"
        },
        "id": "snaxqp67QQzq",
        "outputId": "2e093f02-4ad8-47f6-8253-099c1314e53b"
      },
      "outputs": [
        {
          "output_type": "stream",
          "name": "stdout",
          "text": [
            "2\n",
            "i am happy today\n",
            "we want to win the first prize\n",
            "i ma yppah yadot \n",
            "ew tnaw ot niw eht tsrif ezirp "
          ]
        }
      ],
      "source": [
        "n=int(input())\n",
        "\n",
        "wordlist=[input().split() for _ in range(n)]\n",
        "count=1\n",
        "for i in wordlist:\n",
        "    for j in i:\n",
        "        print(j[::-1], end=\" \")\n",
        "    if count!=n:\n",
        "      count+=1\n",
        "      print()"
      ]
    },
    {
      "cell_type": "code",
      "source": [
        "x=\"word\"\n",
        "print(x[::-1])"
      ],
      "metadata": {
        "colab": {
          "base_uri": "https://localhost:8080/"
        },
        "id": "XZT1XiOdQTbh",
        "outputId": "02026e5e-8404-4bd5-a7f9-79f9dc35cb28"
      },
      "execution_count": 4,
      "outputs": [
        {
          "output_type": "stream",
          "name": "stdout",
          "text": [
            "drow\n"
          ]
        }
      ]
    }
  ]
}